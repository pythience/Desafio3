{
  "nbformat": 4,
  "nbformat_minor": 0,
  "metadata": {
    "colab": {
      "name": "2_Desafio3_KNN.ipynb",
      "version": "0.3.2",
      "provenance": [],
      "collapsed_sections": []
    },
    "language_info": {
      "codemirror_mode": {
        "name": "ipython",
        "version": 3
      },
      "file_extension": ".py",
      "mimetype": "text/x-python",
      "name": "python",
      "nbconvert_exporter": "python",
      "pygments_lexer": "ipython3",
      "version": "3.7.1"
    },
    "kernelspec": {
      "display_name": "Python 3",
      "language": "python",
      "name": "python3"
    }
  },
  "cells": [
    {
      "cell_type": "markdown",
      "metadata": {
        "colab_type": "text",
        "id": "mYma6EF3hYLc"
      },
      "source": [
        "# Desafío 3: kNN Vecinos \n",
        "\n",
        "## Aplicamos el modelo `KNeighborsClassifier` de `scikit-learn` a los datos de intenciones de compras en línea."
      ]
    },
    {
      "cell_type": "markdown",
      "metadata": {
        "colab_type": "text",
        "id": "byB5q1-mMY6A"
      },
      "source": [
        "## 1. Introducción\n",
        "\n",
        "**Información del DataSet:**\n",
        "\n",
        "El dataset consiste en vectores de características que pertenecen a 12330 sesiones. \n",
        "El conjunto de datos se conformó de manera que cada sesión pertenezca a un usuario diferente en un período de 1 año para evitar cualquier tendencia a una campaña específica, día especial, perfil de usuario o período. \n",
        "\n",
        "El conjunto de datos original consta de 10 atributos numéricos y 8 atributos categóricos. \n",
        "El atributo *'Revenue'* (Ingresos) se utiliza como etiqueta de clasificación. \n",
        "\n",
        "*\"Administrative\"* (Administrativa), *\"Administrative Duration\"* (Duración administrativa), *\"Informational\"* (Informativa), *\"Informational Duration\"* (Duración informativa), *\"Product Related\"* (Producto relacionado) y *\"Product Related Duration\"* (Duración producto relacionado) representan el número de diferentes tipos de páginas visitadas por el visitante en esa sesión y el tiempo total invertido en cada una de estas categorías de páginas. Los valores de estas funciones se derivan de la información de URL de las páginas visitadas por el usuario y se actualizan en tiempo real cuando un usuario realiza una acción, por ejemplo: pasar de una página a otra. \n",
        "\n",
        "*Respecto a Google Analytics:*\n",
        "Las características *\"Bounce Rate\"* (Tasa de rebote), *\"Exit Rate\"* (Tasa de salida) y ***\"Page Value\"* (Valor de la página)** representan las métricas medidas por \"Google Analytics\" para cada página en el sitio de comercio electrónico. El valor de la función \"Índice de rebote\" para una página web se refiere al porcentaje de visitantes que ingresan al sitio desde esa página y luego se van (\"rebote\") sin activar ninguna otra solicitud al servidor de análisis durante esa sesión. El valor de la columna \"Tasa de salida\" para una página web específica se calcula como el porcentaje del total de páginas en cada página fue la última en ser visitada en la sesión. La característica **\"Valor de página\"** representa el valor promedio de una página web que un usuario visitó antes de completar una transacción de comercio electrónico. \n",
        "\n",
        "*Otras características:*\n",
        "La función \"Día especial\" indica la proximidad del tiempo de visita del sitio a un día especial específico (por ejemplo, el Día de la Madre, el Día de San Valentín) en el que es más probable que las sesiones finalicen con la compra. El valor de este atributo se determina considerando la dinámica del comercio electrónico, como la duración entre la fecha del pedido y la fecha de entrega. Por ejemplo, para el día de San Valentín, este valor toma un valor distinto de cero entre el 2 de febrero y el 12 de febrero, cero antes y después de esta fecha a menos que esté cerca de otro día especial, y su valor máximo de 1 el 8 de febrero. El conjunto de datos también incluye sistema operativo, navegador, región, tipo de tráfico, tipo de visitante como visitante recurrente o nuevo, un valor booleano que indica si la fecha de la visita es el fin de semana y el mes del año.\n",
        "\n",
        "*Fuente: https://archive.ics.uci.edu/ml/datasets/Online+Shoppers+Purchasing+Intention+Dataset*\n"
      ]
    },
    {
      "cell_type": "code",
      "metadata": {
        "id": "aK0kri19r8D1",
        "colab_type": "code",
        "outputId": "219190c1-028a-4d03-8412-e5488d156db3",
        "colab": {
          "base_uri": "https://localhost:8080/",
          "height": 55
        }
      },
      "source": [
        "# en Anaconda: comentar esta celda\n",
        "from google.colab import drive \n",
        "drive.mount('/content/gdrive')"
      ],
      "execution_count": 0,
      "outputs": [
        {
          "output_type": "stream",
          "text": [
            "Drive already mounted at /content/gdrive; to attempt to forcibly remount, call drive.mount(\"/content/gdrive\", force_remount=True).\n"
          ],
          "name": "stdout"
        }
      ]
    },
    {
      "cell_type": "code",
      "metadata": {
        "id": "WbJiPKLC5Slr",
        "colab_type": "code",
        "colab": {}
      },
      "source": [
        "# para Anaconda:\n",
        "path = ''\n",
        "\n",
        "# para Cristian en Colab:\n",
        "path='gdrive/My Drive/DataScience - DH/Desafio3/'"
      ],
      "execution_count": 0,
      "outputs": []
    },
    {
      "cell_type": "markdown",
      "metadata": {
        "id": "KJqS4fcMdAxk",
        "colab_type": "text"
      },
      "source": [
        "\n",
        "\n",
        "---\n",
        "\n",
        "\n",
        "\n",
        "---\n",
        "\n"
      ]
    },
    {
      "cell_type": "markdown",
      "metadata": {
        "colab_type": "text",
        "id": "Th2cNfMYhYOW"
      },
      "source": [
        "## kNN *Vecinos* con `sklearn`\n",
        "\n",
        "Aplicamos sobre los datos de test, la transformación para estandarizar valores, de igual manera que en train, para mantener la consistencia de tipos de datos."
      ]
    },
    {
      "cell_type": "code",
      "metadata": {
        "id": "vwAgpJQIoXUv",
        "colab_type": "code",
        "colab": {}
      },
      "source": [
        "# Importamos las librerías necesarias\n",
        "import pandas as pd\n",
        "import numpy as np\n",
        "import matplotlib.pyplot as plt\n",
        "from sklearn.preprocessing import StandardScaler\n",
        "%matplotlib inline\n",
        "pd.options.display.max_rows = 100\n",
        "pd.set_option(\"display.max_rows\", 101)"
      ],
      "execution_count": 0,
      "outputs": []
    },
    {
      "cell_type": "code",
      "metadata": {
        "id": "VfEV-N49ugmx",
        "colab_type": "code",
        "colab": {}
      },
      "source": [
        "df = pd.read_pickle('{}online_shoppers_intention_dummies.pkl'.format(path))"
      ],
      "execution_count": 0,
      "outputs": []
    },
    {
      "cell_type": "code",
      "metadata": {
        "id": "Ccrq3Pm0oXU9",
        "colab_type": "code",
        "outputId": "93492448-8265-4177-85bf-e274351aca8d",
        "colab": {
          "base_uri": "https://localhost:8080/",
          "height": 218
        }
      },
      "source": [
        "df.head(5)"
      ],
      "execution_count": 0,
      "outputs": [
        {
          "output_type": "execute_result",
          "data": {
            "text/html": [
              "<div>\n",
              "<style scoped>\n",
              "    .dataframe tbody tr th:only-of-type {\n",
              "        vertical-align: middle;\n",
              "    }\n",
              "\n",
              "    .dataframe tbody tr th {\n",
              "        vertical-align: top;\n",
              "    }\n",
              "\n",
              "    .dataframe thead th {\n",
              "        text-align: right;\n",
              "    }\n",
              "</style>\n",
              "<table border=\"1\" class=\"dataframe\">\n",
              "  <thead>\n",
              "    <tr style=\"text-align: right;\">\n",
              "      <th></th>\n",
              "      <th>Administrative</th>\n",
              "      <th>Administrative_Duration</th>\n",
              "      <th>Informational</th>\n",
              "      <th>Informational_Duration</th>\n",
              "      <th>ProductRelated</th>\n",
              "      <th>ProductRelated_Duration</th>\n",
              "      <th>BounceRates</th>\n",
              "      <th>ExitRates</th>\n",
              "      <th>PageValues</th>\n",
              "      <th>SpecialDay</th>\n",
              "      <th>Month</th>\n",
              "      <th>OperatingSystems</th>\n",
              "      <th>Browser</th>\n",
              "      <th>Region</th>\n",
              "      <th>TrafficType</th>\n",
              "      <th>Revenue</th>\n",
              "      <th>New_Visitor</th>\n",
              "      <th>Returning_Visitor</th>\n",
              "      <th>Weekend_True</th>\n",
              "    </tr>\n",
              "  </thead>\n",
              "  <tbody>\n",
              "    <tr>\n",
              "      <th>0</th>\n",
              "      <td>0</td>\n",
              "      <td>0.0</td>\n",
              "      <td>0</td>\n",
              "      <td>0.0</td>\n",
              "      <td>1</td>\n",
              "      <td>0.000000</td>\n",
              "      <td>0.20</td>\n",
              "      <td>0.20</td>\n",
              "      <td>0.0</td>\n",
              "      <td>0.0</td>\n",
              "      <td>2</td>\n",
              "      <td>1</td>\n",
              "      <td>1</td>\n",
              "      <td>1</td>\n",
              "      <td>1</td>\n",
              "      <td>0</td>\n",
              "      <td>0</td>\n",
              "      <td>1</td>\n",
              "      <td>0</td>\n",
              "    </tr>\n",
              "    <tr>\n",
              "      <th>1</th>\n",
              "      <td>0</td>\n",
              "      <td>0.0</td>\n",
              "      <td>0</td>\n",
              "      <td>0.0</td>\n",
              "      <td>2</td>\n",
              "      <td>64.000000</td>\n",
              "      <td>0.00</td>\n",
              "      <td>0.10</td>\n",
              "      <td>0.0</td>\n",
              "      <td>0.0</td>\n",
              "      <td>2</td>\n",
              "      <td>2</td>\n",
              "      <td>2</td>\n",
              "      <td>1</td>\n",
              "      <td>2</td>\n",
              "      <td>0</td>\n",
              "      <td>0</td>\n",
              "      <td>1</td>\n",
              "      <td>0</td>\n",
              "    </tr>\n",
              "    <tr>\n",
              "      <th>2</th>\n",
              "      <td>0</td>\n",
              "      <td>0.0</td>\n",
              "      <td>0</td>\n",
              "      <td>0.0</td>\n",
              "      <td>1</td>\n",
              "      <td>0.000000</td>\n",
              "      <td>0.20</td>\n",
              "      <td>0.20</td>\n",
              "      <td>0.0</td>\n",
              "      <td>0.0</td>\n",
              "      <td>2</td>\n",
              "      <td>4</td>\n",
              "      <td>1</td>\n",
              "      <td>9</td>\n",
              "      <td>3</td>\n",
              "      <td>0</td>\n",
              "      <td>0</td>\n",
              "      <td>1</td>\n",
              "      <td>0</td>\n",
              "    </tr>\n",
              "    <tr>\n",
              "      <th>3</th>\n",
              "      <td>0</td>\n",
              "      <td>0.0</td>\n",
              "      <td>0</td>\n",
              "      <td>0.0</td>\n",
              "      <td>2</td>\n",
              "      <td>2.666667</td>\n",
              "      <td>0.05</td>\n",
              "      <td>0.14</td>\n",
              "      <td>0.0</td>\n",
              "      <td>0.0</td>\n",
              "      <td>2</td>\n",
              "      <td>3</td>\n",
              "      <td>2</td>\n",
              "      <td>2</td>\n",
              "      <td>4</td>\n",
              "      <td>0</td>\n",
              "      <td>0</td>\n",
              "      <td>1</td>\n",
              "      <td>0</td>\n",
              "    </tr>\n",
              "    <tr>\n",
              "      <th>4</th>\n",
              "      <td>0</td>\n",
              "      <td>0.0</td>\n",
              "      <td>0</td>\n",
              "      <td>0.0</td>\n",
              "      <td>10</td>\n",
              "      <td>627.500000</td>\n",
              "      <td>0.02</td>\n",
              "      <td>0.05</td>\n",
              "      <td>0.0</td>\n",
              "      <td>0.0</td>\n",
              "      <td>2</td>\n",
              "      <td>3</td>\n",
              "      <td>3</td>\n",
              "      <td>1</td>\n",
              "      <td>4</td>\n",
              "      <td>0</td>\n",
              "      <td>0</td>\n",
              "      <td>1</td>\n",
              "      <td>1</td>\n",
              "    </tr>\n",
              "  </tbody>\n",
              "</table>\n",
              "</div>"
            ],
            "text/plain": [
              "   Administrative  Administrative_Duration  ...  Returning_Visitor  Weekend_True\n",
              "0               0                      0.0  ...                  1             0\n",
              "1               0                      0.0  ...                  1             0\n",
              "2               0                      0.0  ...                  1             0\n",
              "3               0                      0.0  ...                  1             0\n",
              "4               0                      0.0  ...                  1             1\n",
              "\n",
              "[5 rows x 19 columns]"
            ]
          },
          "metadata": {
            "tags": []
          },
          "execution_count": 7
        }
      ]
    },
    {
      "cell_type": "code",
      "metadata": {
        "id": "mfyJI7oGoXVD",
        "colab_type": "code",
        "outputId": "a6905a77-3a61-4d52-93a4-1a2bbc6a59cf",
        "colab": {
          "base_uri": "https://localhost:8080/",
          "height": 235
        }
      },
      "source": [
        "print(df.loc[df['Revenue'] == True].shape)\n",
        "display(df.loc[df['Revenue'] == True].head())"
      ],
      "execution_count": 0,
      "outputs": [
        {
          "output_type": "stream",
          "text": [
            "(1908, 19)\n"
          ],
          "name": "stdout"
        },
        {
          "output_type": "display_data",
          "data": {
            "text/html": [
              "<div>\n",
              "<style scoped>\n",
              "    .dataframe tbody tr th:only-of-type {\n",
              "        vertical-align: middle;\n",
              "    }\n",
              "\n",
              "    .dataframe tbody tr th {\n",
              "        vertical-align: top;\n",
              "    }\n",
              "\n",
              "    .dataframe thead th {\n",
              "        text-align: right;\n",
              "    }\n",
              "</style>\n",
              "<table border=\"1\" class=\"dataframe\">\n",
              "  <thead>\n",
              "    <tr style=\"text-align: right;\">\n",
              "      <th></th>\n",
              "      <th>Administrative</th>\n",
              "      <th>Administrative_Duration</th>\n",
              "      <th>Informational</th>\n",
              "      <th>Informational_Duration</th>\n",
              "      <th>ProductRelated</th>\n",
              "      <th>ProductRelated_Duration</th>\n",
              "      <th>BounceRates</th>\n",
              "      <th>ExitRates</th>\n",
              "      <th>PageValues</th>\n",
              "      <th>SpecialDay</th>\n",
              "      <th>Month</th>\n",
              "      <th>OperatingSystems</th>\n",
              "      <th>Browser</th>\n",
              "      <th>Region</th>\n",
              "      <th>TrafficType</th>\n",
              "      <th>Revenue</th>\n",
              "      <th>New_Visitor</th>\n",
              "      <th>Returning_Visitor</th>\n",
              "      <th>Weekend_True</th>\n",
              "    </tr>\n",
              "  </thead>\n",
              "  <tbody>\n",
              "    <tr>\n",
              "      <th>65</th>\n",
              "      <td>3</td>\n",
              "      <td>87.833333</td>\n",
              "      <td>0</td>\n",
              "      <td>0.0</td>\n",
              "      <td>27</td>\n",
              "      <td>798.333333</td>\n",
              "      <td>0.000000</td>\n",
              "      <td>0.012644</td>\n",
              "      <td>22.916036</td>\n",
              "      <td>0.8</td>\n",
              "      <td>2</td>\n",
              "      <td>2</td>\n",
              "      <td>2</td>\n",
              "      <td>3</td>\n",
              "      <td>1</td>\n",
              "      <td>1</td>\n",
              "      <td>0</td>\n",
              "      <td>1</td>\n",
              "      <td>0</td>\n",
              "    </tr>\n",
              "    <tr>\n",
              "      <th>76</th>\n",
              "      <td>10</td>\n",
              "      <td>1005.666667</td>\n",
              "      <td>0</td>\n",
              "      <td>0.0</td>\n",
              "      <td>36</td>\n",
              "      <td>2111.341667</td>\n",
              "      <td>0.004348</td>\n",
              "      <td>0.014493</td>\n",
              "      <td>11.439412</td>\n",
              "      <td>0.0</td>\n",
              "      <td>2</td>\n",
              "      <td>2</td>\n",
              "      <td>6</td>\n",
              "      <td>1</td>\n",
              "      <td>2</td>\n",
              "      <td>1</td>\n",
              "      <td>0</td>\n",
              "      <td>1</td>\n",
              "      <td>0</td>\n",
              "    </tr>\n",
              "    <tr>\n",
              "      <th>101</th>\n",
              "      <td>4</td>\n",
              "      <td>61.000000</td>\n",
              "      <td>0</td>\n",
              "      <td>0.0</td>\n",
              "      <td>19</td>\n",
              "      <td>607.000000</td>\n",
              "      <td>0.000000</td>\n",
              "      <td>0.026984</td>\n",
              "      <td>17.535959</td>\n",
              "      <td>1.0</td>\n",
              "      <td>2</td>\n",
              "      <td>1</td>\n",
              "      <td>1</td>\n",
              "      <td>7</td>\n",
              "      <td>4</td>\n",
              "      <td>1</td>\n",
              "      <td>0</td>\n",
              "      <td>1</td>\n",
              "      <td>1</td>\n",
              "    </tr>\n",
              "    <tr>\n",
              "      <th>188</th>\n",
              "      <td>9</td>\n",
              "      <td>111.500000</td>\n",
              "      <td>1</td>\n",
              "      <td>48.5</td>\n",
              "      <td>49</td>\n",
              "      <td>1868.819697</td>\n",
              "      <td>0.000000</td>\n",
              "      <td>0.020709</td>\n",
              "      <td>1.706015</td>\n",
              "      <td>0.0</td>\n",
              "      <td>3</td>\n",
              "      <td>2</td>\n",
              "      <td>2</td>\n",
              "      <td>7</td>\n",
              "      <td>2</td>\n",
              "      <td>1</td>\n",
              "      <td>0</td>\n",
              "      <td>1</td>\n",
              "      <td>0</td>\n",
              "    </tr>\n",
              "    <tr>\n",
              "      <th>196</th>\n",
              "      <td>2</td>\n",
              "      <td>56.000000</td>\n",
              "      <td>1</td>\n",
              "      <td>144.0</td>\n",
              "      <td>67</td>\n",
              "      <td>2563.783333</td>\n",
              "      <td>0.000000</td>\n",
              "      <td>0.005797</td>\n",
              "      <td>19.342650</td>\n",
              "      <td>0.0</td>\n",
              "      <td>3</td>\n",
              "      <td>2</td>\n",
              "      <td>2</td>\n",
              "      <td>4</td>\n",
              "      <td>2</td>\n",
              "      <td>1</td>\n",
              "      <td>1</td>\n",
              "      <td>0</td>\n",
              "      <td>0</td>\n",
              "    </tr>\n",
              "  </tbody>\n",
              "</table>\n",
              "</div>"
            ],
            "text/plain": [
              "     Administrative  Administrative_Duration  ...  Returning_Visitor  Weekend_True\n",
              "65                3                87.833333  ...                  1             0\n",
              "76               10              1005.666667  ...                  1             0\n",
              "101               4                61.000000  ...                  1             1\n",
              "188               9               111.500000  ...                  1             0\n",
              "196               2                56.000000  ...                  0             0\n",
              "\n",
              "[5 rows x 19 columns]"
            ]
          },
          "metadata": {
            "tags": []
          }
        }
      ]
    },
    {
      "cell_type": "markdown",
      "metadata": {
        "colab_type": "text",
        "id": "YjaZJKchjkrW"
      },
      "source": [
        "#### Armamos las matrices X e y "
      ]
    },
    {
      "cell_type": "code",
      "metadata": {
        "id": "iX1kHk5BoXVN",
        "colab_type": "code",
        "colab": {}
      },
      "source": [
        "# Probamos con KNN\n",
        "from sklearn.model_selection import train_test_split\n",
        "from sklearn.neighbors import KNeighborsClassifier\n",
        "from sklearn.metrics import confusion_matrix, accuracy_score\n",
        "from sklearn import preprocessing"
      ],
      "execution_count": 0,
      "outputs": []
    },
    {
      "cell_type": "code",
      "metadata": {
        "id": "rhDM1pYGoXVR",
        "colab_type": "code",
        "outputId": "cccdcd0b-3aa7-4712-f76a-fe364d768605",
        "colab": {
          "base_uri": "https://localhost:8080/",
          "height": 121
        }
      },
      "source": [
        "df.columns"
      ],
      "execution_count": 0,
      "outputs": [
        {
          "output_type": "execute_result",
          "data": {
            "text/plain": [
              "Index(['Administrative', 'Administrative_Duration', 'Informational',\n",
              "       'Informational_Duration', 'ProductRelated', 'ProductRelated_Duration',\n",
              "       'BounceRates', 'ExitRates', 'PageValues', 'SpecialDay', 'Month',\n",
              "       'OperatingSystems', 'Browser', 'Region', 'TrafficType', 'Revenue',\n",
              "       'New_Visitor', 'Returning_Visitor', 'Weekend_True'],\n",
              "      dtype='object')"
            ]
          },
          "metadata": {
            "tags": []
          },
          "execution_count": 10
        }
      ]
    },
    {
      "cell_type": "code",
      "metadata": {
        "colab_type": "code",
        "id": "V2XfT8JBjSWN",
        "colab": {}
      },
      "source": [
        "X = df[['Administrative', 'Administrative_Duration', 'Informational',\n",
        "       'Informational_Duration', 'ProductRelated', 'ProductRelated_Duration',\n",
        "       'BounceRates', 'ExitRates', 'PageValues', 'SpecialDay', 'Month',\n",
        "       'OperatingSystems', 'Browser', 'Region', 'TrafficType', \n",
        "       'New_Visitor', 'Returning_Visitor', 'Weekend_True']]\n",
        "y = df[\"Revenue\"]"
      ],
      "execution_count": 0,
      "outputs": []
    },
    {
      "cell_type": "code",
      "metadata": {
        "id": "cGVAIgXloXVa",
        "colab_type": "code",
        "outputId": "b92bfd12-1b87-4600-afd7-c2fe03648335",
        "colab": {
          "base_uri": "https://localhost:8080/",
          "height": 35
        }
      },
      "source": [
        "X.shape"
      ],
      "execution_count": 0,
      "outputs": [
        {
          "output_type": "execute_result",
          "data": {
            "text/plain": [
              "(12330, 18)"
            ]
          },
          "metadata": {
            "tags": []
          },
          "execution_count": 12
        }
      ]
    },
    {
      "cell_type": "markdown",
      "metadata": {
        "id": "cOchuIuiCNrE",
        "colab_type": "text"
      },
      "source": [
        "### Aplicamos el modelo `KNeighborsClassifier` \n",
        "\n",
        "con validación cruzada para distintos hiperparámetros de `n_neighbors`"
      ]
    },
    {
      "cell_type": "code",
      "metadata": {
        "id": "PMy_ElsaoXVn",
        "colab_type": "code",
        "colab": {}
      },
      "source": [
        "from sklearn.model_selection import cross_val_score\n",
        "\n",
        "# Voy a querer graficar los distintos valores del score de cross validation en función del hiperparámetro n_neighbors\n",
        "\n",
        "#Lista de Diccionarios\n",
        "scores_para_df = []\n",
        "\n",
        "# range(1,40,5) son los posibles valores de n_neighbors que quiero explorar. Son todos los enteros desde el 1\n",
        "# hasta el 40 en saltos de a 5. (Start,Stop,Step)\n",
        "for i in range(1,100,5):\n",
        "    # En cada iteración instanciamos el modelo con un hiperparámetro distinto\n",
        "    model = KNeighborsClassifier(n_neighbors=i)\n",
        "    \n",
        "    # cross_val_scores nos devuelve un array de 5 resultados, uno por cada partición que hizo automáticamente CV  \n",
        "    cv_scores = cross_val_score(model, X, y, cv=5)\n",
        "    \n",
        "    # Para cada valor de n_neighbours, creo un diccionario con el valor de n_neighbours y la media y el desvío de los scores.\n",
        "    dict_row_score = {'score_medio':np.mean(cv_scores),'score_std':np.std(cv_scores),'n_neighbours':i}\n",
        "    \n",
        "    # Guardo cada uno en la lista de diccionarios\n",
        "    scores_para_df.append(dict_row_score)"
      ],
      "execution_count": 0,
      "outputs": []
    },
    {
      "cell_type": "code",
      "metadata": {
        "id": "Z9SBrgTEoXVq",
        "colab_type": "code",
        "outputId": "a288c7fd-ea93-4755-a3f7-62541395c124",
        "colab": {
          "base_uri": "https://localhost:8080/",
          "height": 198
        }
      },
      "source": [
        "# Creamos el DataFrame a partir de la lista de diccionarios\n",
        "df_scores = pd.DataFrame(scores_para_df)\n",
        "df_scores.head()"
      ],
      "execution_count": 0,
      "outputs": [
        {
          "output_type": "execute_result",
          "data": {
            "text/html": [
              "<div>\n",
              "<style scoped>\n",
              "    .dataframe tbody tr th:only-of-type {\n",
              "        vertical-align: middle;\n",
              "    }\n",
              "\n",
              "    .dataframe tbody tr th {\n",
              "        vertical-align: top;\n",
              "    }\n",
              "\n",
              "    .dataframe thead th {\n",
              "        text-align: right;\n",
              "    }\n",
              "</style>\n",
              "<table border=\"1\" class=\"dataframe\">\n",
              "  <thead>\n",
              "    <tr style=\"text-align: right;\">\n",
              "      <th></th>\n",
              "      <th>n_neighbours</th>\n",
              "      <th>score_medio</th>\n",
              "      <th>score_std</th>\n",
              "    </tr>\n",
              "  </thead>\n",
              "  <tbody>\n",
              "    <tr>\n",
              "      <th>0</th>\n",
              "      <td>1</td>\n",
              "      <td>0.825701</td>\n",
              "      <td>0.023374</td>\n",
              "    </tr>\n",
              "    <tr>\n",
              "      <th>1</th>\n",
              "      <td>6</td>\n",
              "      <td>0.863744</td>\n",
              "      <td>0.010345</td>\n",
              "    </tr>\n",
              "    <tr>\n",
              "      <th>2</th>\n",
              "      <td>11</td>\n",
              "      <td>0.864231</td>\n",
              "      <td>0.009450</td>\n",
              "    </tr>\n",
              "    <tr>\n",
              "      <th>3</th>\n",
              "      <td>16</td>\n",
              "      <td>0.864556</td>\n",
              "      <td>0.007382</td>\n",
              "    </tr>\n",
              "    <tr>\n",
              "      <th>4</th>\n",
              "      <td>21</td>\n",
              "      <td>0.862042</td>\n",
              "      <td>0.005461</td>\n",
              "    </tr>\n",
              "  </tbody>\n",
              "</table>\n",
              "</div>"
            ],
            "text/plain": [
              "   n_neighbours  score_medio  score_std\n",
              "0             1     0.825701   0.023374\n",
              "1             6     0.863744   0.010345\n",
              "2            11     0.864231   0.009450\n",
              "3            16     0.864556   0.007382\n",
              "4            21     0.862042   0.005461"
            ]
          },
          "metadata": {
            "tags": []
          },
          "execution_count": 14
        }
      ]
    },
    {
      "cell_type": "code",
      "metadata": {
        "id": "Scp1gNByoXVv",
        "colab_type": "code",
        "outputId": "858a9604-ed46-427d-f30c-b8c4bf11fd01",
        "colab": {
          "base_uri": "https://localhost:8080/",
          "height": 648
        }
      },
      "source": [
        "df_scores['limite_inferior'] = df_scores['score_medio'] - df_scores['score_std']\n",
        "df_scores['limite_superior'] = df_scores['score_medio'] + df_scores['score_std']\n",
        "df_scores.sort_values('score_medio', ascending=False)"
      ],
      "execution_count": 0,
      "outputs": [
        {
          "output_type": "execute_result",
          "data": {
            "text/html": [
              "<div>\n",
              "<style scoped>\n",
              "    .dataframe tbody tr th:only-of-type {\n",
              "        vertical-align: middle;\n",
              "    }\n",
              "\n",
              "    .dataframe tbody tr th {\n",
              "        vertical-align: top;\n",
              "    }\n",
              "\n",
              "    .dataframe thead th {\n",
              "        text-align: right;\n",
              "    }\n",
              "</style>\n",
              "<table border=\"1\" class=\"dataframe\">\n",
              "  <thead>\n",
              "    <tr style=\"text-align: right;\">\n",
              "      <th></th>\n",
              "      <th>n_neighbours</th>\n",
              "      <th>score_medio</th>\n",
              "      <th>score_std</th>\n",
              "      <th>limite_inferior</th>\n",
              "      <th>limite_superior</th>\n",
              "    </tr>\n",
              "  </thead>\n",
              "  <tbody>\n",
              "    <tr>\n",
              "      <th>3</th>\n",
              "      <td>16</td>\n",
              "      <td>0.864556</td>\n",
              "      <td>0.007382</td>\n",
              "      <td>0.857174</td>\n",
              "      <td>0.871938</td>\n",
              "    </tr>\n",
              "    <tr>\n",
              "      <th>2</th>\n",
              "      <td>11</td>\n",
              "      <td>0.864231</td>\n",
              "      <td>0.009450</td>\n",
              "      <td>0.854781</td>\n",
              "      <td>0.873681</td>\n",
              "    </tr>\n",
              "    <tr>\n",
              "      <th>1</th>\n",
              "      <td>6</td>\n",
              "      <td>0.863744</td>\n",
              "      <td>0.010345</td>\n",
              "      <td>0.853399</td>\n",
              "      <td>0.874088</td>\n",
              "    </tr>\n",
              "    <tr>\n",
              "      <th>4</th>\n",
              "      <td>21</td>\n",
              "      <td>0.862042</td>\n",
              "      <td>0.005461</td>\n",
              "      <td>0.856581</td>\n",
              "      <td>0.867504</td>\n",
              "    </tr>\n",
              "    <tr>\n",
              "      <th>5</th>\n",
              "      <td>26</td>\n",
              "      <td>0.861150</td>\n",
              "      <td>0.005004</td>\n",
              "      <td>0.856146</td>\n",
              "      <td>0.866155</td>\n",
              "    </tr>\n",
              "    <tr>\n",
              "      <th>6</th>\n",
              "      <td>31</td>\n",
              "      <td>0.859690</td>\n",
              "      <td>0.004931</td>\n",
              "      <td>0.854759</td>\n",
              "      <td>0.864622</td>\n",
              "    </tr>\n",
              "    <tr>\n",
              "      <th>7</th>\n",
              "      <td>36</td>\n",
              "      <td>0.858150</td>\n",
              "      <td>0.004830</td>\n",
              "      <td>0.853320</td>\n",
              "      <td>0.862980</td>\n",
              "    </tr>\n",
              "    <tr>\n",
              "      <th>8</th>\n",
              "      <td>41</td>\n",
              "      <td>0.856852</td>\n",
              "      <td>0.003348</td>\n",
              "      <td>0.853504</td>\n",
              "      <td>0.860201</td>\n",
              "    </tr>\n",
              "    <tr>\n",
              "      <th>9</th>\n",
              "      <td>46</td>\n",
              "      <td>0.855231</td>\n",
              "      <td>0.003146</td>\n",
              "      <td>0.852084</td>\n",
              "      <td>0.858377</td>\n",
              "    </tr>\n",
              "    <tr>\n",
              "      <th>10</th>\n",
              "      <td>51</td>\n",
              "      <td>0.854501</td>\n",
              "      <td>0.002512</td>\n",
              "      <td>0.851989</td>\n",
              "      <td>0.857013</td>\n",
              "    </tr>\n",
              "    <tr>\n",
              "      <th>11</th>\n",
              "      <td>56</td>\n",
              "      <td>0.854095</td>\n",
              "      <td>0.002527</td>\n",
              "      <td>0.851569</td>\n",
              "      <td>0.856622</td>\n",
              "    </tr>\n",
              "    <tr>\n",
              "      <th>12</th>\n",
              "      <td>61</td>\n",
              "      <td>0.852798</td>\n",
              "      <td>0.002342</td>\n",
              "      <td>0.850456</td>\n",
              "      <td>0.855140</td>\n",
              "    </tr>\n",
              "    <tr>\n",
              "      <th>13</th>\n",
              "      <td>66</td>\n",
              "      <td>0.851662</td>\n",
              "      <td>0.002353</td>\n",
              "      <td>0.849310</td>\n",
              "      <td>0.854015</td>\n",
              "    </tr>\n",
              "    <tr>\n",
              "      <th>14</th>\n",
              "      <td>71</td>\n",
              "      <td>0.851176</td>\n",
              "      <td>0.001786</td>\n",
              "      <td>0.849390</td>\n",
              "      <td>0.852961</td>\n",
              "    </tr>\n",
              "    <tr>\n",
              "      <th>15</th>\n",
              "      <td>76</td>\n",
              "      <td>0.850770</td>\n",
              "      <td>0.001855</td>\n",
              "      <td>0.848915</td>\n",
              "      <td>0.852626</td>\n",
              "    </tr>\n",
              "    <tr>\n",
              "      <th>16</th>\n",
              "      <td>81</td>\n",
              "      <td>0.850689</td>\n",
              "      <td>0.001977</td>\n",
              "      <td>0.848712</td>\n",
              "      <td>0.852666</td>\n",
              "    </tr>\n",
              "    <tr>\n",
              "      <th>17</th>\n",
              "      <td>86</td>\n",
              "      <td>0.850040</td>\n",
              "      <td>0.002047</td>\n",
              "      <td>0.847993</td>\n",
              "      <td>0.852088</td>\n",
              "    </tr>\n",
              "    <tr>\n",
              "      <th>18</th>\n",
              "      <td>91</td>\n",
              "      <td>0.849473</td>\n",
              "      <td>0.001887</td>\n",
              "      <td>0.847586</td>\n",
              "      <td>0.851360</td>\n",
              "    </tr>\n",
              "    <tr>\n",
              "      <th>19</th>\n",
              "      <td>96</td>\n",
              "      <td>0.849067</td>\n",
              "      <td>0.001679</td>\n",
              "      <td>0.847389</td>\n",
              "      <td>0.850746</td>\n",
              "    </tr>\n",
              "    <tr>\n",
              "      <th>0</th>\n",
              "      <td>1</td>\n",
              "      <td>0.825701</td>\n",
              "      <td>0.023374</td>\n",
              "      <td>0.802328</td>\n",
              "      <td>0.849075</td>\n",
              "    </tr>\n",
              "  </tbody>\n",
              "</table>\n",
              "</div>"
            ],
            "text/plain": [
              "    n_neighbours  score_medio  score_std  limite_inferior  limite_superior\n",
              "3             16     0.864556   0.007382         0.857174         0.871938\n",
              "2             11     0.864231   0.009450         0.854781         0.873681\n",
              "1              6     0.863744   0.010345         0.853399         0.874088\n",
              "4             21     0.862042   0.005461         0.856581         0.867504\n",
              "5             26     0.861150   0.005004         0.856146         0.866155\n",
              "6             31     0.859690   0.004931         0.854759         0.864622\n",
              "7             36     0.858150   0.004830         0.853320         0.862980\n",
              "8             41     0.856852   0.003348         0.853504         0.860201\n",
              "9             46     0.855231   0.003146         0.852084         0.858377\n",
              "10            51     0.854501   0.002512         0.851989         0.857013\n",
              "11            56     0.854095   0.002527         0.851569         0.856622\n",
              "12            61     0.852798   0.002342         0.850456         0.855140\n",
              "13            66     0.851662   0.002353         0.849310         0.854015\n",
              "14            71     0.851176   0.001786         0.849390         0.852961\n",
              "15            76     0.850770   0.001855         0.848915         0.852626\n",
              "16            81     0.850689   0.001977         0.848712         0.852666\n",
              "17            86     0.850040   0.002047         0.847993         0.852088\n",
              "18            91     0.849473   0.001887         0.847586         0.851360\n",
              "19            96     0.849067   0.001679         0.847389         0.850746\n",
              "0              1     0.825701   0.023374         0.802328         0.849075"
            ]
          },
          "metadata": {
            "tags": []
          },
          "execution_count": 15
        }
      ]
    },
    {
      "cell_type": "code",
      "metadata": {
        "id": "_aiEjJU6oXV0",
        "colab_type": "code",
        "outputId": "06a97091-5331-4f8a-fda4-3f1efb7054e7",
        "colab": {
          "base_uri": "https://localhost:8080/",
          "height": 269
        }
      },
      "source": [
        "plt.plot(df_scores['n_neighbours'],df_scores['limite_inferior'],color='r')\n",
        "plt.plot(df_scores['n_neighbours'],df_scores['score_medio'],color='b')\n",
        "plt.plot(df_scores['n_neighbours'],df_scores['limite_superior'],color='r');"
      ],
      "execution_count": 0,
      "outputs": [
        {
          "output_type": "display_data",
          "data": {
            "image/png": "[encoded data removed]",
            "text/plain": [
              "<Figure size 432x288 with 1 Axes>"
            ]
          },
          "metadata": {
            "tags": []
          }
        }
      ]
    },
    {
      "cell_type": "code",
      "metadata": {
        "id": "HqfMtgeyoXV7",
        "colab_type": "code",
        "colab": {}
      },
      "source": [
        "X_train, X_test, y_train, y_test = train_test_split(X, y, test_size=0.33, random_state=42)\n",
        "scaler = StandardScaler() \n",
        "X_train = scaler.fit_transform(X_train)\n",
        "X_test = scaler.transform(X_test)\n",
        "le = preprocessing.LabelEncoder()\n",
        "y =  le.fit_transform(df['Revenue'])"
      ],
      "execution_count": 0,
      "outputs": []
    },
    {
      "cell_type": "code",
      "metadata": {
        "id": "pg6qT1sAoXWB",
        "colab_type": "code",
        "outputId": "81079fe4-d961-41fd-af66-2e634ceb5b7f",
        "colab": {
          "base_uri": "https://localhost:8080/",
          "height": 69
        }
      },
      "source": [
        "# Elegimos el modelo óptimo que nos había indicado cross validation\n",
        "model = KNeighborsClassifier(n_neighbors=16)\n",
        "# Lo ajustamos sobre datos de entrenamiento\n",
        "model.fit(X_train,y_train)"
      ],
      "execution_count": 0,
      "outputs": [
        {
          "output_type": "execute_result",
          "data": {
            "text/plain": [
              "KNeighborsClassifier(algorithm='auto', leaf_size=30, metric='minkowski',\n",
              "                     metric_params=None, n_jobs=None, n_neighbors=16, p=2,\n",
              "                     weights='uniform')"
            ]
          },
          "metadata": {
            "tags": []
          },
          "execution_count": 18
        }
      ]
    },
    {
      "cell_type": "code",
      "metadata": {
        "id": "jmRekzMyoXWG",
        "colab_type": "code",
        "colab": {}
      },
      "source": [
        "# Lo utilizamos para predecir en test\n",
        "y_pred = model.predict(X_test)"
      ],
      "execution_count": 0,
      "outputs": []
    },
    {
      "cell_type": "code",
      "metadata": {
        "id": "j3p3AMTioXWK",
        "colab_type": "code",
        "outputId": "cec953cc-a149-4f65-806d-db6652afeebc",
        "colab": {
          "base_uri": "https://localhost:8080/",
          "height": 301
        }
      },
      "source": [
        "# Matriz de confusión\n",
        "import seaborn as sns\n",
        "\n",
        "sns.heatmap(confusion_matrix(y_test, y_pred), annot=True, fmt='g', cbar=False)\n",
        "plt.ylabel('Verdaderos')\n",
        "plt.xlabel('Predichos');\n",
        "print(accuracy_score(y_test, y_pred))"
      ],
      "execution_count": 0,
      "outputs": [
        {
          "output_type": "stream",
          "text": [
            "0.8753993610223643\n"
          ],
          "name": "stdout"
        },
        {
          "output_type": "display_data",
          "data": {
            "image/png": "[encoded data removed]",
            "text/plain": [
              "<Figure size 432x288 with 1 Axes>"
            ]
          },
          "metadata": {
            "tags": []
          }
        }
      ]
    },
    {
      "cell_type": "code",
      "metadata": {
        "id": "ppOYVLjGoXWR",
        "colab_type": "code",
        "outputId": "73d0faf7-4aab-4aaa-d612-1fd1e278a0f7",
        "colab": {
          "base_uri": "https://localhost:8080/",
          "height": 52
        }
      },
      "source": [
        "confusion = confusion_matrix(y_test, y_pred)\n",
        "print(confusion)"
      ],
      "execution_count": 0,
      "outputs": [
        {
          "output_type": "stream",
          "text": [
            "[[3391   45]\n",
            " [ 462  171]]\n"
          ],
          "name": "stdout"
        }
      ]
    },
    {
      "cell_type": "code",
      "metadata": {
        "id": "TrUD7PR-oXWg",
        "colab_type": "code",
        "colab": {}
      },
      "source": [
        "TP = confusion[1, 1]\n",
        "TN = confusion[0, 0]\n",
        "FP = confusion[0, 1]\n",
        "FN = confusion[1, 0]"
      ],
      "execution_count": 0,
      "outputs": []
    },
    {
      "cell_type": "code",
      "metadata": {
        "id": "0AOEYVnRoXWk",
        "colab_type": "code",
        "outputId": "9e821e72-0af8-4037-8b06-bf5a4b07731b",
        "colab": {
          "base_uri": "https://localhost:8080/",
          "height": 52
        }
      },
      "source": [
        "print((TP + TN) / float(TP + TN + FP + FN))\n",
        "print(accuracy_score(y_test, y_pred))"
      ],
      "execution_count": 0,
      "outputs": [
        {
          "output_type": "stream",
          "text": [
            "0.8753993610223643\n",
            "0.8753993610223643\n"
          ],
          "name": "stdout"
        }
      ]
    },
    {
      "cell_type": "code",
      "metadata": {
        "id": "9Azsfl3PoXWt",
        "colab_type": "code",
        "outputId": "ffa0c981-e9e0-4ce8-dc44-1346be8cf393",
        "colab": {
          "base_uri": "https://localhost:8080/",
          "height": 52
        }
      },
      "source": [
        "class_error = (FP + FN) / float(TP + TN + FP + FN)\n",
        "\n",
        "print(class_error)\n",
        "print(1 - accuracy_score(y_test, y_pred))"
      ],
      "execution_count": 0,
      "outputs": [
        {
          "output_type": "stream",
          "text": [
            "0.12460063897763578\n",
            "0.12460063897763574\n"
          ],
          "name": "stdout"
        }
      ]
    },
    {
      "cell_type": "code",
      "metadata": {
        "id": "K-otI8sfoXWz",
        "colab_type": "code",
        "outputId": "b57a4d06-f72a-4d2e-a073-a868b0a8738e",
        "colab": {
          "base_uri": "https://localhost:8080/",
          "height": 52
        }
      },
      "source": [
        "from sklearn.metrics import recall_score\n",
        "sensitivity = TP / float(FN + TP)\n",
        "\n",
        "print(sensitivity)\n",
        "print(recall_score(y_test, y_pred))"
      ],
      "execution_count": 0,
      "outputs": [
        {
          "output_type": "stream",
          "text": [
            "0.27014218009478674\n",
            "0.27014218009478674\n"
          ],
          "name": "stdout"
        }
      ]
    },
    {
      "cell_type": "code",
      "metadata": {
        "id": "k-yrNU6RoXW5",
        "colab_type": "code",
        "outputId": "7222b67b-e1c0-4d9d-b3eb-02947a7b59b0",
        "colab": {
          "base_uri": "https://localhost:8080/",
          "height": 35
        }
      },
      "source": [
        "specificity = TN / (TN + FP)\n",
        "\n",
        "print(specificity)"
      ],
      "execution_count": 0,
      "outputs": [
        {
          "output_type": "stream",
          "text": [
            "0.9869033760186263\n"
          ],
          "name": "stdout"
        }
      ]
    },
    {
      "cell_type": "code",
      "metadata": {
        "id": "I9K3_4DeoXW_",
        "colab_type": "code",
        "outputId": "e71cdb3a-b85f-428a-9898-9399f19d5590",
        "colab": {
          "base_uri": "https://localhost:8080/",
          "height": 52
        }
      },
      "source": [
        "from sklearn.metrics import precision_score\n",
        "\n",
        "precision = TP / float(TP + FP)\n",
        "\n",
        "print(precision)\n",
        "print(precision_score(y_test, y_pred))"
      ],
      "execution_count": 0,
      "outputs": [
        {
          "output_type": "stream",
          "text": [
            "0.7916666666666666\n",
            "0.7916666666666666\n"
          ],
          "name": "stdout"
        }
      ]
    },
    {
      "cell_type": "markdown",
      "metadata": {
        "id": "YvpCecljodH0",
        "colab_type": "text"
      },
      "source": [
        "#### Métricas computadas desde la matriz de confusión: F1-Score\n",
        "\n",
        "Es un promedio armónico entre precision y recall."
      ]
    },
    {
      "cell_type": "code",
      "metadata": {
        "id": "D8-Gjvw-odH3",
        "colab_type": "code",
        "outputId": "67661f83-b81d-42b5-f22b-ac64fe146dc8",
        "colab": {
          "base_uri": "https://localhost:8080/",
          "height": 35
        }
      },
      "source": [
        "from sklearn.metrics import f1_score\n",
        "\n",
        "# f1 = 2*((precision*sensitivity)/(precision+sensitivity))\n",
        "print('F1 score = {}'.format(f1_score(y_test,y_pred)))"
      ],
      "execution_count": 0,
      "outputs": [
        {
          "output_type": "stream",
          "text": [
            "F1 score = 0.4028268551236749\n"
          ],
          "name": "stdout"
        }
      ]
    },
    {
      "cell_type": "code",
      "metadata": {
        "id": "FejgD1GRNqBs",
        "colab_type": "code",
        "colab": {}
      },
      "source": [
        "from sklearn.metrics import roc_auc_score, classification_report"
      ],
      "execution_count": 0,
      "outputs": []
    },
    {
      "cell_type": "code",
      "metadata": {
        "id": "dhIXbG-1Nwzo",
        "colab_type": "code",
        "outputId": "8efbe84a-2382-43e1-d177-6f125c120918",
        "colab": {
          "base_uri": "https://localhost:8080/",
          "height": 35
        }
      },
      "source": [
        "roc_auc_score(y_test, y_pred)"
      ],
      "execution_count": 0,
      "outputs": [
        {
          "output_type": "execute_result",
          "data": {
            "text/plain": [
              "0.6285227780567065"
            ]
          },
          "metadata": {
            "tags": []
          },
          "execution_count": 32
        }
      ]
    },
    {
      "cell_type": "code",
      "metadata": {
        "id": "_H8XHnNlNciv",
        "colab_type": "code",
        "outputId": "faf23645-aea9-42d3-a6d9-e28ccbb9b77d",
        "colab": {
          "base_uri": "https://localhost:8080/",
          "height": 173
        }
      },
      "source": [
        "print(classification_report(y_test, y_pred))"
      ],
      "execution_count": 0,
      "outputs": [
        {
          "output_type": "stream",
          "text": [
            "              precision    recall  f1-score   support\n",
            "\n",
            "           0       0.88      0.99      0.93      3436\n",
            "           1       0.79      0.27      0.40       633\n",
            "\n",
            "    accuracy                           0.88      4069\n",
            "   macro avg       0.84      0.63      0.67      4069\n",
            "weighted avg       0.87      0.88      0.85      4069\n",
            "\n"
          ],
          "name": "stdout"
        }
      ]
    },
    {
      "cell_type": "code",
      "metadata": {
        "id": "VHpDQ81N8ylS",
        "colab_type": "code",
        "outputId": "0ae7a3ae-e5dd-4239-b2f0-904468e76a48",
        "colab": {
          "base_uri": "https://localhost:8080/",
          "height": 313
        }
      },
      "source": [
        "from sklearn.metrics import roc_auc_score\n",
        "from sklearn.metrics import roc_curve\n",
        "\n",
        "logit_roc_auc = roc_auc_score(y_test, y_pred)\n",
        "fpr, tpr, thresholds = roc_curve(y_test, model.predict_proba(X_test)[:,1])\n",
        "\n",
        "\n",
        "print('kNN (área = %0.2f)' % logit_roc_auc)\n",
        "\n",
        "plt.figure()\n",
        "plt.plot(fpr, tpr, label='kNN (área = %0.2f)' % logit_roc_auc)\n",
        "plt.plot([0, 1], [0, 1],'r--')\n",
        "plt.xlim([0.0, 1.0])\n",
        "plt.ylim([0.0, 1.05])\n",
        "plt.xlabel('Tasa de Falsos Positivos')\n",
        "plt.ylabel('Tasa de Verdaderos Positivos')\n",
        "plt.title('Curva ROC'+' kNN (área = %0.2f)' % logit_roc_auc)\n",
        "plt.legend(\"lower right\")\n",
        "plt.savefig(\"{}kNN_ROC.png\".format(path), dpi=400)\n",
        "plt.show()"
      ],
      "execution_count": 0,
      "outputs": [
        {
          "output_type": "stream",
          "text": [
            "kNN (área = 0.63)\n"
          ],
          "name": "stdout"
        },
        {
          "output_type": "display_data",
          "data": {
            "image/png": "[encoded data removed]",
            "text/plain": [
              "<Figure size 432x288 with 1 Axes>"
            ]
          },
          "metadata": {
            "tags": []
          }
        }
      ]
    },
    {
      "cell_type": "code",
      "metadata": {
        "id": "52AaVVnOhlZX",
        "colab_type": "code",
        "colab": {}
      },
      "source": [
        ""
      ],
      "execution_count": 0,
      "outputs": []
    }
  ]
}