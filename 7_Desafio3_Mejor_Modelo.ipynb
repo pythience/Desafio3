{
  "nbformat": 4,
  "nbformat_minor": 0,
  "metadata": {
    "colab": {
      "name": "7_Desafio3_Mejor_Modelo.ipynb",
      "version": "0.3.2",
      "provenance": [],
      "collapsed_sections": [],
      "include_colab_link": true
    },
    "kernelspec": {
      "name": "python3",
      "display_name": "Python 3"
    }
  },
  "cells": [
    {
      "cell_type": "markdown",
      "metadata": {
        "id": "view-in-github",
        "colab_type": "text"
      },
      "source": [
        "<a href=\"https://colab.research.google.com/github/pythience/Desafio3/blob/master/7_Desafio3_Mejor_Modelo.ipynb\" target=\"_parent\"><img src=\"https://colab.research.google.com/assets/colab-badge.svg\" alt=\"Open In Colab\"/></a>"
      ]
    },
    {
      "cell_type": "markdown",
      "metadata": {
        "colab_type": "text",
        "id": "mYma6EF3hYLc"
      },
      "source": [
        "# Desafío 3: Selección del mejor modelo\n",
        "\n",
        "## Aplicamos `Pipelines` y `GridSearch/RandomSearch` sobre múltiples modelos de `scikit-learn` con los datos de intenciones de compras en línea balanceados con `SMOTE`."
      ]
    },
    {
      "cell_type": "markdown",
      "metadata": {
        "colab_type": "text",
        "id": "oqNfbQYktPG-"
      },
      "source": [
        "## 1. Introducción\n",
        "\n",
        "**Información del DataSet:**\n",
        "\n",
        "El dataset consiste en vectores de características que pertenecen a 12330 sesiones. \n",
        "El conjunto de datos se conformó de manera que cada sesión pertenezca a un usuario diferente en un período de 1 año para evitar cualquier tendencia a una campaña específica, día especial, perfil de usuario o período. \n",
        "\n",
        "El conjunto de datos original consta de 10 atributos numéricos y 8 atributos categóricos. \n",
        "El atributo *'Revenue'* (Ingresos) se utiliza como etiqueta de clasificación. \n",
        "\n",
        "*\"Administrative\"* (Administrativa), *\"Administrative Duration\"* (Duración administrativa), *\"Informational\"* (Informativa), *\"Informational Duration\"* (Duración informativa), *\"Product Related\"* (Producto relacionado) y *\"Product Related Duration\"* (Duración producto relacionado) representan el número de diferentes tipos de páginas visitadas por el visitante en esa sesión y el tiempo total invertido en cada una de estas categorías de páginas. Los valores de estas funciones se derivan de la información de URL de las páginas visitadas por el usuario y se actualizan en tiempo real cuando un usuario realiza una acción, por ejemplo: pasar de una página a otra. \n",
        "\n",
        "*Respecto a Google Analytics:*\n",
        "Las características *\"Bounce Rate\"* (Tasa de rebote), *\"Exit Rate\"* (Tasa de salida) y ***\"Page Value\"* (Valor de la página)** representan las métricas medidas por \"Google Analytics\" para cada página en el sitio de comercio electrónico. El valor de la función \"Índice de rebote\" para una página web se refiere al porcentaje de visitantes que ingresan al sitio desde esa página y luego se van (\"rebote\") sin activar ninguna otra solicitud al servidor de análisis durante esa sesión. El valor de la columna \"Tasa de salida\" para una página web específica se calcula como el porcentaje del total de páginas en cada página fue la última en ser visitada en la sesión. La característica **\"Valor de página\"** representa el valor promedio de una página web que un usuario visitó antes de completar una transacción de comercio electrónico. \n",
        "\n",
        "*Otras características:*\n",
        "La función \"Día especial\" indica la proximidad del tiempo de visita del sitio a un día especial específico (por ejemplo, el Día de la Madre, el Día de San Valentín) en el que es más probable que las sesiones finalicen con la compra. El valor de este atributo se determina considerando la dinámica del comercio electrónico, como la duración entre la fecha del pedido y la fecha de entrega. Por ejemplo, para el día de San Valentín, este valor toma un valor distinto de cero entre el 2 de febrero y el 12 de febrero, cero antes y después de esta fecha a menos que esté cerca de otro día especial, y su valor máximo de 1 el 8 de febrero. El conjunto de datos también incluye sistema operativo, navegador, región, tipo de tráfico, tipo de visitante como visitante recurrente o nuevo, un valor booleano que indica si la fecha de la visita es el fin de semana y el mes del año.\n",
        "\n",
        "*Fuente: https://archive.ics.uci.edu/ml/datasets/Online+Shoppers+Purchasing+Intention+Dataset*\n"
      ]
    },
    {
      "cell_type": "code",
      "metadata": {
        "id": "aK0kri19r8D1",
        "colab_type": "code",
        "outputId": "59737a89-23fa-418c-9809-1d5b1b339fec",
        "colab": {
          "base_uri": "https://localhost:8080/",
          "height": 55
        }
      },
      "source": [
        "from google.colab import drive \n",
        "drive.mount('/content/gdrive')"
      ],
      "execution_count": 0,
      "outputs": [
        {
          "output_type": "stream",
          "text": [
            "Drive already mounted at /content/gdrive; to attempt to forcibly remount, call drive.mount(\"/content/gdrive\", force_remount=True).\n"
          ],
          "name": "stdout"
        }
      ]
    },
    {
      "cell_type": "code",
      "metadata": {
        "id": "WbJiPKLC5Slr",
        "colab_type": "code",
        "colab": {}
      },
      "source": [
        "# para Anaconda:\n",
        "path = ''\n",
        "\n",
        "# para Cristian en Colab:\n",
        "path='gdrive/My Drive/DataScience - DH/Desafio3/'"
      ],
      "execution_count": 0,
      "outputs": []
    },
    {
      "cell_type": "markdown",
      "metadata": {
        "id": "oN1Tqcwlm9HA",
        "colab_type": "text"
      },
      "source": [
        "\n",
        "\n",
        "---\n",
        "\n",
        "\n",
        "\n",
        "---\n",
        "\n"
      ]
    },
    {
      "cell_type": "code",
      "metadata": {
        "colab_type": "code",
        "outputId": "9ba89184-f525-427c-f6b1-01f808c373b1",
        "id": "yBG6_YZsL5Bx",
        "colab": {
          "base_uri": "https://localhost:8080/",
          "height": 106
        }
      },
      "source": [
        "%pylab inline\n",
        "import pandas as pd\n",
        "import numpy as np\n",
        "import seaborn as sns\n",
        "from pylab import savefig"
      ],
      "execution_count": 0,
      "outputs": [
        {
          "output_type": "stream",
          "text": [
            "Populating the interactive namespace from numpy and matplotlib\n"
          ],
          "name": "stdout"
        },
        {
          "output_type": "stream",
          "text": [
            "/usr/local/lib/python3.6/dist-packages/IPython/core/magics/pylab.py:161: UserWarning: pylab import has clobbered these variables: ['f']\n",
            "`%matplotlib` prevents importing * from pylab and numpy\n",
            "  \"\\n`%matplotlib` prevents importing * from pylab and numpy\"\n"
          ],
          "name": "stderr"
        }
      ]
    },
    {
      "cell_type": "code",
      "metadata": {
        "id": "VfEV-N49ugmx",
        "colab_type": "code",
        "colab": {}
      },
      "source": [
        "df = pd.read_pickle('{}online_shoppers_intention_dummies.pkl'.format(path))"
      ],
      "execution_count": 0,
      "outputs": []
    },
    {
      "cell_type": "markdown",
      "metadata": {
        "colab_type": "text",
        "id": "YjaZJKchjkrW"
      },
      "source": [
        "## Armamos las matrices de `features (X)` y de `target (y)`\n"
      ]
    },
    {
      "cell_type": "code",
      "metadata": {
        "colab_type": "code",
        "id": "56h6yZMjhYNR",
        "outputId": "11216f2e-dc3d-45cc-8370-90669b5e6157",
        "colab": {
          "base_uri": "https://localhost:8080/",
          "height": 322
        }
      },
      "source": [
        "display(df.head())\n",
        "df.columns"
      ],
      "execution_count": 0,
      "outputs": [
        {
          "output_type": "display_data",
          "data": {
            "text/html": [
              "<div>\n",
              "<style scoped>\n",
              "    .dataframe tbody tr th:only-of-type {\n",
              "        vertical-align: middle;\n",
              "    }\n",
              "\n",
              "    .dataframe tbody tr th {\n",
              "        vertical-align: top;\n",
              "    }\n",
              "\n",
              "    .dataframe thead th {\n",
              "        text-align: right;\n",
              "    }\n",
              "</style>\n",
              "<table border=\"1\" class=\"dataframe\">\n",
              "  <thead>\n",
              "    <tr style=\"text-align: right;\">\n",
              "      <th></th>\n",
              "      <th>Administrative</th>\n",
              "      <th>Administrative_Duration</th>\n",
              "      <th>Informational</th>\n",
              "      <th>Informational_Duration</th>\n",
              "      <th>ProductRelated</th>\n",
              "      <th>ProductRelated_Duration</th>\n",
              "      <th>BounceRates</th>\n",
              "      <th>ExitRates</th>\n",
              "      <th>PageValues</th>\n",
              "      <th>SpecialDay</th>\n",
              "      <th>Month</th>\n",
              "      <th>OperatingSystems</th>\n",
              "      <th>Browser</th>\n",
              "      <th>Region</th>\n",
              "      <th>TrafficType</th>\n",
              "      <th>Revenue</th>\n",
              "      <th>New_Visitor</th>\n",
              "      <th>Returning_Visitor</th>\n",
              "      <th>Weekend_True</th>\n",
              "    </tr>\n",
              "  </thead>\n",
              "  <tbody>\n",
              "    <tr>\n",
              "      <th>0</th>\n",
              "      <td>0</td>\n",
              "      <td>0.0</td>\n",
              "      <td>0</td>\n",
              "      <td>0.0</td>\n",
              "      <td>1</td>\n",
              "      <td>0.000000</td>\n",
              "      <td>0.20</td>\n",
              "      <td>0.20</td>\n",
              "      <td>0.0</td>\n",
              "      <td>0.0</td>\n",
              "      <td>2</td>\n",
              "      <td>1</td>\n",
              "      <td>1</td>\n",
              "      <td>1</td>\n",
              "      <td>1</td>\n",
              "      <td>0</td>\n",
              "      <td>0</td>\n",
              "      <td>1</td>\n",
              "      <td>0</td>\n",
              "    </tr>\n",
              "    <tr>\n",
              "      <th>1</th>\n",
              "      <td>0</td>\n",
              "      <td>0.0</td>\n",
              "      <td>0</td>\n",
              "      <td>0.0</td>\n",
              "      <td>2</td>\n",
              "      <td>64.000000</td>\n",
              "      <td>0.00</td>\n",
              "      <td>0.10</td>\n",
              "      <td>0.0</td>\n",
              "      <td>0.0</td>\n",
              "      <td>2</td>\n",
              "      <td>2</td>\n",
              "      <td>2</td>\n",
              "      <td>1</td>\n",
              "      <td>2</td>\n",
              "      <td>0</td>\n",
              "      <td>0</td>\n",
              "      <td>1</td>\n",
              "      <td>0</td>\n",
              "    </tr>\n",
              "    <tr>\n",
              "      <th>2</th>\n",
              "      <td>0</td>\n",
              "      <td>0.0</td>\n",
              "      <td>0</td>\n",
              "      <td>0.0</td>\n",
              "      <td>1</td>\n",
              "      <td>0.000000</td>\n",
              "      <td>0.20</td>\n",
              "      <td>0.20</td>\n",
              "      <td>0.0</td>\n",
              "      <td>0.0</td>\n",
              "      <td>2</td>\n",
              "      <td>4</td>\n",
              "      <td>1</td>\n",
              "      <td>9</td>\n",
              "      <td>3</td>\n",
              "      <td>0</td>\n",
              "      <td>0</td>\n",
              "      <td>1</td>\n",
              "      <td>0</td>\n",
              "    </tr>\n",
              "    <tr>\n",
              "      <th>3</th>\n",
              "      <td>0</td>\n",
              "      <td>0.0</td>\n",
              "      <td>0</td>\n",
              "      <td>0.0</td>\n",
              "      <td>2</td>\n",
              "      <td>2.666667</td>\n",
              "      <td>0.05</td>\n",
              "      <td>0.14</td>\n",
              "      <td>0.0</td>\n",
              "      <td>0.0</td>\n",
              "      <td>2</td>\n",
              "      <td>3</td>\n",
              "      <td>2</td>\n",
              "      <td>2</td>\n",
              "      <td>4</td>\n",
              "      <td>0</td>\n",
              "      <td>0</td>\n",
              "      <td>1</td>\n",
              "      <td>0</td>\n",
              "    </tr>\n",
              "    <tr>\n",
              "      <th>4</th>\n",
              "      <td>0</td>\n",
              "      <td>0.0</td>\n",
              "      <td>0</td>\n",
              "      <td>0.0</td>\n",
              "      <td>10</td>\n",
              "      <td>627.500000</td>\n",
              "      <td>0.02</td>\n",
              "      <td>0.05</td>\n",
              "      <td>0.0</td>\n",
              "      <td>0.0</td>\n",
              "      <td>2</td>\n",
              "      <td>3</td>\n",
              "      <td>3</td>\n",
              "      <td>1</td>\n",
              "      <td>4</td>\n",
              "      <td>0</td>\n",
              "      <td>0</td>\n",
              "      <td>1</td>\n",
              "      <td>1</td>\n",
              "    </tr>\n",
              "  </tbody>\n",
              "</table>\n",
              "</div>"
            ],
            "text/plain": [
              "   Administrative  Administrative_Duration  ...  Returning_Visitor  Weekend_True\n",
              "0               0                      0.0  ...                  1             0\n",
              "1               0                      0.0  ...                  1             0\n",
              "2               0                      0.0  ...                  1             0\n",
              "3               0                      0.0  ...                  1             0\n",
              "4               0                      0.0  ...                  1             1\n",
              "\n",
              "[5 rows x 19 columns]"
            ]
          },
          "metadata": {
            "tags": []
          }
        },
        {
          "output_type": "execute_result",
          "data": {
            "text/plain": [
              "Index(['Administrative', 'Administrative_Duration', 'Informational',\n",
              "       'Informational_Duration', 'ProductRelated', 'ProductRelated_Duration',\n",
              "       'BounceRates', 'ExitRates', 'PageValues', 'SpecialDay', 'Month',\n",
              "       'OperatingSystems', 'Browser', 'Region', 'TrafficType', 'Revenue',\n",
              "       'New_Visitor', 'Returning_Visitor', 'Weekend_True'],\n",
              "      dtype='object')"
            ]
          },
          "metadata": {
            "tags": []
          },
          "execution_count": 49
        }
      ]
    },
    {
      "cell_type": "code",
      "metadata": {
        "id": "ZkIUwh78u9Ic",
        "colab_type": "code",
        "colab": {}
      },
      "source": [
        "#continuos_features\n",
        "#categorical_features\n",
        "#dummies_features"
      ],
      "execution_count": 0,
      "outputs": []
    },
    {
      "cell_type": "code",
      "metadata": {
        "colab_type": "code",
        "id": "V2XfT8JBjSWN",
        "colab": {}
      },
      "source": [
        "X = df[['Administrative', 'Administrative_Duration', 'Informational',\n",
        "       'Informational_Duration', 'ProductRelated', 'ProductRelated_Duration',\n",
        "       'BounceRates', 'ExitRates', 'PageValues', 'SpecialDay', 'Month',\n",
        "       'OperatingSystems', 'Browser', 'Region', 'TrafficType', \n",
        "       'New_Visitor', 'Returning_Visitor', 'Weekend_True']]\n",
        "y = df[\"Revenue\"]"
      ],
      "execution_count": 0,
      "outputs": []
    },
    {
      "cell_type": "code",
      "metadata": {
        "id": "ExHTBkBeRQe3",
        "colab_type": "code",
        "outputId": "fac08cc5-d4d7-4bbd-f9f1-30486edf2ea2",
        "colab": {
          "base_uri": "https://localhost:8080/",
          "height": 69
        }
      },
      "source": [
        "print('X: {}'.format(X.shape))\n",
        "print('y: {}'.format(y.shape))\n",
        "print('y==True: {}'.format(y.sum()))"
      ],
      "execution_count": 0,
      "outputs": [
        {
          "output_type": "stream",
          "text": [
            "X: (12330, 18)\n",
            "y: (12330,)\n",
            "y==True: 1908\n"
          ],
          "name": "stdout"
        }
      ]
    },
    {
      "cell_type": "code",
      "metadata": {
        "id": "UEt87PYaRVR5",
        "colab_type": "code",
        "colab": {}
      },
      "source": [
        ""
      ],
      "execution_count": 0,
      "outputs": []
    },
    {
      "cell_type": "markdown",
      "metadata": {
        "colab_type": "text",
        "id": "sX0h2GAejD72"
      },
      "source": [
        "### Train Test Split"
      ]
    },
    {
      "cell_type": "code",
      "metadata": {
        "id": "AlWdVxYm4oT2",
        "colab_type": "code",
        "colab": {}
      },
      "source": [
        "from sklearn.model_selection import train_test_split"
      ],
      "execution_count": 0,
      "outputs": []
    },
    {
      "cell_type": "code",
      "metadata": {
        "colab_type": "code",
        "id": "_YzGfjoajLd3",
        "colab": {}
      },
      "source": [
        "# obtenemos los datos de train y test desde los datos originales:\n",
        "X_train, X_test, y_train, y_test = train_test_split(X, y, random_state=7)"
      ],
      "execution_count": 0,
      "outputs": []
    },
    {
      "cell_type": "code",
      "metadata": {
        "scrolled": true,
        "id": "sZhb6WfjLzRU",
        "colab_type": "code",
        "outputId": "fde2ff0a-88cb-4725-c49d-f20f2ba460ed",
        "colab": {
          "base_uri": "https://localhost:8080/",
          "height": 121
        }
      },
      "source": [
        "print('X_train: {}'.format(X_train.shape))\n",
        "print('X_test: {}'.format(X_test.shape))\n",
        "print('y_train: {}'.format(y_train.shape))\n",
        "print('y_train==True: {}'.format(y_train.sum()))\n",
        "print('y_test: {}'.format(y_test.shape))\n",
        "print('y_test==True: {}'.format(y_test.sum()))\n"
      ],
      "execution_count": 0,
      "outputs": [
        {
          "output_type": "stream",
          "text": [
            "X_train: (9247, 18)\n",
            "X_test: (3083, 18)\n",
            "y_train: (9247,)\n",
            "y_train==True: 1422\n",
            "y_test: (3083,)\n",
            "y_test==True: 486\n"
          ],
          "name": "stdout"
        }
      ]
    },
    {
      "cell_type": "markdown",
      "metadata": {
        "id": "mJt6zh__T8WY",
        "colab_type": "text"
      },
      "source": [
        "en este listado se observa claramente el desbalanceo de los datos, tanto en train como en test, por lo que se necesita implementar alguna técnica de balanceo sobre los datos de entrenamiento de los distintos modelos.\n",
        "\n",
        "\n",
        "---\n",
        "\n"
      ]
    },
    {
      "cell_type": "code",
      "metadata": {
        "id": "NA_Cl292rn1k",
        "colab_type": "code",
        "outputId": "2161c2cb-6840-4cf7-b8f9-64f2e8b48841",
        "colab": {
          "base_uri": "https://localhost:8080/",
          "height": 445
        }
      },
      "source": [
        "#X_train[X_train.duplicated()]\n",
        "print(X_test[X_test.duplicated()].shape)\n",
        "display(X_test[X_test.duplicated()])"
      ],
      "execution_count": 0,
      "outputs": [
        {
          "output_type": "stream",
          "text": [
            "(12, 18)\n"
          ],
          "name": "stdout"
        },
        {
          "output_type": "display_data",
          "data": {
            "text/html": [
              "<div>\n",
              "<style scoped>\n",
              "    .dataframe tbody tr th:only-of-type {\n",
              "        vertical-align: middle;\n",
              "    }\n",
              "\n",
              "    .dataframe tbody tr th {\n",
              "        vertical-align: top;\n",
              "    }\n",
              "\n",
              "    .dataframe thead th {\n",
              "        text-align: right;\n",
              "    }\n",
              "</style>\n",
              "<table border=\"1\" class=\"dataframe\">\n",
              "  <thead>\n",
              "    <tr style=\"text-align: right;\">\n",
              "      <th></th>\n",
              "      <th>Administrative</th>\n",
              "      <th>Administrative_Duration</th>\n",
              "      <th>Informational</th>\n",
              "      <th>Informational_Duration</th>\n",
              "      <th>ProductRelated</th>\n",
              "      <th>ProductRelated_Duration</th>\n",
              "      <th>BounceRates</th>\n",
              "      <th>ExitRates</th>\n",
              "      <th>PageValues</th>\n",
              "      <th>SpecialDay</th>\n",
              "      <th>Month</th>\n",
              "      <th>OperatingSystems</th>\n",
              "      <th>Browser</th>\n",
              "      <th>Region</th>\n",
              "      <th>TrafficType</th>\n",
              "      <th>New_Visitor</th>\n",
              "      <th>Returning_Visitor</th>\n",
              "      <th>Weekend_True</th>\n",
              "    </tr>\n",
              "  </thead>\n",
              "  <tbody>\n",
              "    <tr>\n",
              "      <th>2130</th>\n",
              "      <td>0</td>\n",
              "      <td>0.0</td>\n",
              "      <td>0</td>\n",
              "      <td>0.0</td>\n",
              "      <td>1</td>\n",
              "      <td>0.0</td>\n",
              "      <td>0.2</td>\n",
              "      <td>0.2</td>\n",
              "      <td>0.0</td>\n",
              "      <td>0.0</td>\n",
              "      <td>5</td>\n",
              "      <td>2</td>\n",
              "      <td>4</td>\n",
              "      <td>1</td>\n",
              "      <td>3</td>\n",
              "      <td>0</td>\n",
              "      <td>1</td>\n",
              "      <td>0</td>\n",
              "    </tr>\n",
              "    <tr>\n",
              "      <th>3577</th>\n",
              "      <td>0</td>\n",
              "      <td>0.0</td>\n",
              "      <td>0</td>\n",
              "      <td>0.0</td>\n",
              "      <td>1</td>\n",
              "      <td>0.0</td>\n",
              "      <td>0.2</td>\n",
              "      <td>0.2</td>\n",
              "      <td>0.0</td>\n",
              "      <td>0.0</td>\n",
              "      <td>5</td>\n",
              "      <td>2</td>\n",
              "      <td>2</td>\n",
              "      <td>1</td>\n",
              "      <td>4</td>\n",
              "      <td>0</td>\n",
              "      <td>1</td>\n",
              "      <td>0</td>\n",
              "    </tr>\n",
              "    <tr>\n",
              "      <th>7635</th>\n",
              "      <td>0</td>\n",
              "      <td>0.0</td>\n",
              "      <td>0</td>\n",
              "      <td>0.0</td>\n",
              "      <td>1</td>\n",
              "      <td>0.0</td>\n",
              "      <td>0.2</td>\n",
              "      <td>0.2</td>\n",
              "      <td>0.0</td>\n",
              "      <td>0.0</td>\n",
              "      <td>6</td>\n",
              "      <td>3</td>\n",
              "      <td>2</td>\n",
              "      <td>3</td>\n",
              "      <td>13</td>\n",
              "      <td>0</td>\n",
              "      <td>1</td>\n",
              "      <td>0</td>\n",
              "    </tr>\n",
              "    <tr>\n",
              "      <th>11938</th>\n",
              "      <td>0</td>\n",
              "      <td>0.0</td>\n",
              "      <td>0</td>\n",
              "      <td>0.0</td>\n",
              "      <td>1</td>\n",
              "      <td>0.0</td>\n",
              "      <td>0.2</td>\n",
              "      <td>0.2</td>\n",
              "      <td>0.0</td>\n",
              "      <td>0.0</td>\n",
              "      <td>12</td>\n",
              "      <td>1</td>\n",
              "      <td>1</td>\n",
              "      <td>4</td>\n",
              "      <td>1</td>\n",
              "      <td>0</td>\n",
              "      <td>1</td>\n",
              "      <td>1</td>\n",
              "    </tr>\n",
              "    <tr>\n",
              "      <th>10631</th>\n",
              "      <td>0</td>\n",
              "      <td>0.0</td>\n",
              "      <td>0</td>\n",
              "      <td>0.0</td>\n",
              "      <td>1</td>\n",
              "      <td>0.0</td>\n",
              "      <td>0.2</td>\n",
              "      <td>0.2</td>\n",
              "      <td>0.0</td>\n",
              "      <td>0.0</td>\n",
              "      <td>11</td>\n",
              "      <td>2</td>\n",
              "      <td>2</td>\n",
              "      <td>1</td>\n",
              "      <td>1</td>\n",
              "      <td>0</td>\n",
              "      <td>1</td>\n",
              "      <td>0</td>\n",
              "    </tr>\n",
              "    <tr>\n",
              "      <th>1213</th>\n",
              "      <td>0</td>\n",
              "      <td>0.0</td>\n",
              "      <td>0</td>\n",
              "      <td>0.0</td>\n",
              "      <td>1</td>\n",
              "      <td>0.0</td>\n",
              "      <td>0.2</td>\n",
              "      <td>0.2</td>\n",
              "      <td>0.0</td>\n",
              "      <td>0.0</td>\n",
              "      <td>3</td>\n",
              "      <td>3</td>\n",
              "      <td>2</td>\n",
              "      <td>3</td>\n",
              "      <td>1</td>\n",
              "      <td>0</td>\n",
              "      <td>1</td>\n",
              "      <td>0</td>\n",
              "    </tr>\n",
              "    <tr>\n",
              "      <th>11801</th>\n",
              "      <td>0</td>\n",
              "      <td>0.0</td>\n",
              "      <td>0</td>\n",
              "      <td>0.0</td>\n",
              "      <td>1</td>\n",
              "      <td>0.0</td>\n",
              "      <td>0.2</td>\n",
              "      <td>0.2</td>\n",
              "      <td>0.0</td>\n",
              "      <td>0.0</td>\n",
              "      <td>12</td>\n",
              "      <td>1</td>\n",
              "      <td>1</td>\n",
              "      <td>4</td>\n",
              "      <td>1</td>\n",
              "      <td>0</td>\n",
              "      <td>1</td>\n",
              "      <td>1</td>\n",
              "    </tr>\n",
              "    <tr>\n",
              "      <th>5043</th>\n",
              "      <td>0</td>\n",
              "      <td>0.0</td>\n",
              "      <td>0</td>\n",
              "      <td>0.0</td>\n",
              "      <td>1</td>\n",
              "      <td>0.0</td>\n",
              "      <td>0.2</td>\n",
              "      <td>0.2</td>\n",
              "      <td>0.0</td>\n",
              "      <td>0.0</td>\n",
              "      <td>5</td>\n",
              "      <td>2</td>\n",
              "      <td>2</td>\n",
              "      <td>1</td>\n",
              "      <td>3</td>\n",
              "      <td>0</td>\n",
              "      <td>1</td>\n",
              "      <td>0</td>\n",
              "    </tr>\n",
              "    <tr>\n",
              "      <th>540</th>\n",
              "      <td>0</td>\n",
              "      <td>0.0</td>\n",
              "      <td>0</td>\n",
              "      <td>0.0</td>\n",
              "      <td>1</td>\n",
              "      <td>0.0</td>\n",
              "      <td>0.2</td>\n",
              "      <td>0.2</td>\n",
              "      <td>0.0</td>\n",
              "      <td>0.0</td>\n",
              "      <td>3</td>\n",
              "      <td>3</td>\n",
              "      <td>2</td>\n",
              "      <td>3</td>\n",
              "      <td>1</td>\n",
              "      <td>0</td>\n",
              "      <td>1</td>\n",
              "      <td>0</td>\n",
              "    </tr>\n",
              "    <tr>\n",
              "      <th>3272</th>\n",
              "      <td>0</td>\n",
              "      <td>0.0</td>\n",
              "      <td>0</td>\n",
              "      <td>0.0</td>\n",
              "      <td>1</td>\n",
              "      <td>0.0</td>\n",
              "      <td>0.2</td>\n",
              "      <td>0.2</td>\n",
              "      <td>0.0</td>\n",
              "      <td>0.0</td>\n",
              "      <td>5</td>\n",
              "      <td>1</td>\n",
              "      <td>1</td>\n",
              "      <td>3</td>\n",
              "      <td>3</td>\n",
              "      <td>0</td>\n",
              "      <td>1</td>\n",
              "      <td>0</td>\n",
              "    </tr>\n",
              "    <tr>\n",
              "      <th>85</th>\n",
              "      <td>0</td>\n",
              "      <td>0.0</td>\n",
              "      <td>0</td>\n",
              "      <td>0.0</td>\n",
              "      <td>1</td>\n",
              "      <td>0.0</td>\n",
              "      <td>0.2</td>\n",
              "      <td>0.2</td>\n",
              "      <td>0.0</td>\n",
              "      <td>0.0</td>\n",
              "      <td>2</td>\n",
              "      <td>1</td>\n",
              "      <td>1</td>\n",
              "      <td>1</td>\n",
              "      <td>3</td>\n",
              "      <td>0</td>\n",
              "      <td>1</td>\n",
              "      <td>0</td>\n",
              "    </tr>\n",
              "    <tr>\n",
              "      <th>11581</th>\n",
              "      <td>0</td>\n",
              "      <td>0.0</td>\n",
              "      <td>0</td>\n",
              "      <td>0.0</td>\n",
              "      <td>1</td>\n",
              "      <td>0.0</td>\n",
              "      <td>0.2</td>\n",
              "      <td>0.2</td>\n",
              "      <td>0.0</td>\n",
              "      <td>0.0</td>\n",
              "      <td>12</td>\n",
              "      <td>8</td>\n",
              "      <td>13</td>\n",
              "      <td>9</td>\n",
              "      <td>20</td>\n",
              "      <td>0</td>\n",
              "      <td>0</td>\n",
              "      <td>0</td>\n",
              "    </tr>\n",
              "  </tbody>\n",
              "</table>\n",
              "</div>"
            ],
            "text/plain": [
              "       Administrative  Administrative_Duration  ...  Returning_Visitor  Weekend_True\n",
              "2130                0                      0.0  ...                  1             0\n",
              "3577                0                      0.0  ...                  1             0\n",
              "7635                0                      0.0  ...                  1             0\n",
              "11938               0                      0.0  ...                  1             1\n",
              "10631               0                      0.0  ...                  1             0\n",
              "1213                0                      0.0  ...                  1             0\n",
              "11801               0                      0.0  ...                  1             1\n",
              "5043                0                      0.0  ...                  1             0\n",
              "540                 0                      0.0  ...                  1             0\n",
              "3272                0                      0.0  ...                  1             0\n",
              "85                  0                      0.0  ...                  1             0\n",
              "11581               0                      0.0  ...                  0             0\n",
              "\n",
              "[12 rows x 18 columns]"
            ]
          },
          "metadata": {
            "tags": []
          }
        }
      ]
    },
    {
      "cell_type": "markdown",
      "metadata": {
        "colab_type": "text",
        "id": "9Jpb6uTDe2_B"
      },
      "source": [
        "### Balanceo de target con `SMOTE`"
      ]
    },
    {
      "cell_type": "code",
      "metadata": {
        "id": "8lBbIR1IK8P4",
        "colab_type": "code",
        "colab": {}
      },
      "source": [
        "from imblearn.over_sampling import SMOTE\n",
        "sm = SMOTE(sampling_strategy='auto',k_neighbors=5)\n",
        "X_bal_train, y_bal_train = sm.fit_sample(X_train, y_train)"
      ],
      "execution_count": 0,
      "outputs": []
    },
    {
      "cell_type": "code",
      "metadata": {
        "id": "bZ1kClITR9Le",
        "colab_type": "code",
        "outputId": "2d69c13e-9c68-4c41-fd10-3d327e2cb97d",
        "colab": {
          "base_uri": "https://localhost:8080/",
          "height": 69
        }
      },
      "source": [
        "print(X_bal_train.shape)\n",
        "print(y_bal_train.shape)\n",
        "print('y_bal_train==True: {}'.format(y_bal_train.sum()))"
      ],
      "execution_count": 0,
      "outputs": [
        {
          "output_type": "stream",
          "text": [
            "(15650, 18)\n",
            "(15650,)\n",
            "y_bal_train==True: 7825\n"
          ],
          "name": "stdout"
        }
      ]
    },
    {
      "cell_type": "markdown",
      "metadata": {
        "id": "y8lhz_8deDCk",
        "colab_type": "text"
      },
      "source": [
        "####persistimos el dataset balanceado para futuros usos:"
      ]
    },
    {
      "cell_type": "code",
      "metadata": {
        "id": "GIkv0rkgTUNW",
        "colab_type": "code",
        "colab": {}
      },
      "source": [
        "import pickle"
      ],
      "execution_count": 0,
      "outputs": []
    },
    {
      "cell_type": "code",
      "metadata": {
        "id": "wba6sZ4tzJ6Q",
        "colab_type": "code",
        "colab": {}
      },
      "source": [
        "#guardamos en un `dict` X e y después de aplicar SMOTE, agregando un comment\n",
        "\n",
        "features_target_dict = {'X_bal_train':X_bal_train, 'y_bal_train':y_bal_train, 'comentario':'Conjunto de Features y Target, con SMOTE para balancear los datos de entrenamiento.'}\n",
        "\n",
        "with open('{}online_shoppers_intention_dummies_X-y_SMOTE.pkl'.format(path), 'wb') as f_Xy:\n",
        "    pickle.dump(features_target_dict, f_Xy)"
      ],
      "execution_count": 0,
      "outputs": []
    },
    {
      "cell_type": "code",
      "metadata": {
        "id": "9YI61g8i48FB",
        "colab_type": "code",
        "colab": {}
      },
      "source": [
        "# obtenemos los datos de train y test desde los datos originales:\n",
        "#X_bal_train, X_bal_test, y_bal_train, y_bal_test = train_test_split(X_bal, y_bal, random_state=7, test_size=0.00001, train_size=0.99999)\n"
      ],
      "execution_count": 0,
      "outputs": []
    },
    {
      "cell_type": "code",
      "metadata": {
        "scrolled": true,
        "colab_type": "code",
        "outputId": "a6489ef9-0867-433d-ea6a-39e61a6054a8",
        "id": "2y0o-15z13ab",
        "colab": {
          "base_uri": "https://localhost:8080/",
          "height": 69
        }
      },
      "source": [
        "print('X_bal_train: {}'.format(X_bal_train.shape))\n",
        "#print('X_bal_test: {}'.format(X_bal_test.shape))\n",
        "print('y_bal_train: {}'.format(y_bal_train.shape))\n",
        "print('y_bal_train==True: {}'.format(y_bal_train.sum()))\n",
        "#print('y_bal_test: {}'.format(y_bal_test.shape))\n",
        "#print('y_bal_test==True: {}'.format(y_bal_test.sum()))"
      ],
      "execution_count": 0,
      "outputs": [
        {
          "output_type": "stream",
          "text": [
            "X_bal_train: (15650, 18)\n",
            "y_bal_train: (15650,)\n",
            "y_bal_train==True: 7825\n"
          ],
          "name": "stdout"
        }
      ]
    },
    {
      "cell_type": "code",
      "metadata": {
        "id": "1tYtfTSerROR",
        "colab_type": "code",
        "outputId": "2fbacb35-f232-4fc7-9779-253a4111e9c4",
        "colab": {
          "base_uri": "https://localhost:8080/",
          "height": 425
        }
      },
      "source": [
        "df_X_bal_train = pd.DataFrame(X_bal_train)\n",
        "print(df_X_bal_train[df_X_bal_train.duplicated()].shape)\n",
        "display(df_X_bal_train[df_X_bal_train.duplicated()].sample(12))\n",
        "#X_bal_test[X_bal_train.duplicated()]"
      ],
      "execution_count": 0,
      "outputs": [
        {
          "output_type": "stream",
          "text": [
            "(83, 18)\n"
          ],
          "name": "stdout"
        },
        {
          "output_type": "display_data",
          "data": {
            "text/html": [
              "<div>\n",
              "<style scoped>\n",
              "    .dataframe tbody tr th:only-of-type {\n",
              "        vertical-align: middle;\n",
              "    }\n",
              "\n",
              "    .dataframe tbody tr th {\n",
              "        vertical-align: top;\n",
              "    }\n",
              "\n",
              "    .dataframe thead th {\n",
              "        text-align: right;\n",
              "    }\n",
              "</style>\n",
              "<table border=\"1\" class=\"dataframe\">\n",
              "  <thead>\n",
              "    <tr style=\"text-align: right;\">\n",
              "      <th></th>\n",
              "      <th>0</th>\n",
              "      <th>1</th>\n",
              "      <th>2</th>\n",
              "      <th>3</th>\n",
              "      <th>4</th>\n",
              "      <th>5</th>\n",
              "      <th>6</th>\n",
              "      <th>7</th>\n",
              "      <th>8</th>\n",
              "      <th>9</th>\n",
              "      <th>10</th>\n",
              "      <th>11</th>\n",
              "      <th>12</th>\n",
              "      <th>13</th>\n",
              "      <th>14</th>\n",
              "      <th>15</th>\n",
              "      <th>16</th>\n",
              "      <th>17</th>\n",
              "    </tr>\n",
              "  </thead>\n",
              "  <tbody>\n",
              "    <tr>\n",
              "      <th>8950</th>\n",
              "      <td>0.0</td>\n",
              "      <td>0.0</td>\n",
              "      <td>0.0</td>\n",
              "      <td>0.0</td>\n",
              "      <td>1.0</td>\n",
              "      <td>0.0</td>\n",
              "      <td>0.2</td>\n",
              "      <td>0.2</td>\n",
              "      <td>0.0</td>\n",
              "      <td>0.0</td>\n",
              "      <td>11.0</td>\n",
              "      <td>3.0</td>\n",
              "      <td>2.0</td>\n",
              "      <td>7.0</td>\n",
              "      <td>13.0</td>\n",
              "      <td>0.0</td>\n",
              "      <td>1.0</td>\n",
              "      <td>0.0</td>\n",
              "    </tr>\n",
              "    <tr>\n",
              "      <th>7319</th>\n",
              "      <td>0.0</td>\n",
              "      <td>0.0</td>\n",
              "      <td>0.0</td>\n",
              "      <td>0.0</td>\n",
              "      <td>1.0</td>\n",
              "      <td>0.0</td>\n",
              "      <td>0.2</td>\n",
              "      <td>0.2</td>\n",
              "      <td>0.0</td>\n",
              "      <td>0.0</td>\n",
              "      <td>3.0</td>\n",
              "      <td>1.0</td>\n",
              "      <td>1.0</td>\n",
              "      <td>8.0</td>\n",
              "      <td>1.0</td>\n",
              "      <td>0.0</td>\n",
              "      <td>1.0</td>\n",
              "      <td>0.0</td>\n",
              "    </tr>\n",
              "    <tr>\n",
              "      <th>2498</th>\n",
              "      <td>0.0</td>\n",
              "      <td>0.0</td>\n",
              "      <td>0.0</td>\n",
              "      <td>0.0</td>\n",
              "      <td>1.0</td>\n",
              "      <td>0.0</td>\n",
              "      <td>0.2</td>\n",
              "      <td>0.2</td>\n",
              "      <td>0.0</td>\n",
              "      <td>0.0</td>\n",
              "      <td>11.0</td>\n",
              "      <td>2.0</td>\n",
              "      <td>2.0</td>\n",
              "      <td>3.0</td>\n",
              "      <td>1.0</td>\n",
              "      <td>0.0</td>\n",
              "      <td>1.0</td>\n",
              "      <td>0.0</td>\n",
              "    </tr>\n",
              "    <tr>\n",
              "      <th>3326</th>\n",
              "      <td>0.0</td>\n",
              "      <td>0.0</td>\n",
              "      <td>0.0</td>\n",
              "      <td>0.0</td>\n",
              "      <td>1.0</td>\n",
              "      <td>0.0</td>\n",
              "      <td>0.2</td>\n",
              "      <td>0.2</td>\n",
              "      <td>0.0</td>\n",
              "      <td>0.0</td>\n",
              "      <td>3.0</td>\n",
              "      <td>2.0</td>\n",
              "      <td>2.0</td>\n",
              "      <td>1.0</td>\n",
              "      <td>1.0</td>\n",
              "      <td>0.0</td>\n",
              "      <td>1.0</td>\n",
              "      <td>0.0</td>\n",
              "    </tr>\n",
              "    <tr>\n",
              "      <th>3426</th>\n",
              "      <td>0.0</td>\n",
              "      <td>0.0</td>\n",
              "      <td>0.0</td>\n",
              "      <td>0.0</td>\n",
              "      <td>1.0</td>\n",
              "      <td>0.0</td>\n",
              "      <td>0.2</td>\n",
              "      <td>0.2</td>\n",
              "      <td>0.0</td>\n",
              "      <td>0.0</td>\n",
              "      <td>11.0</td>\n",
              "      <td>3.0</td>\n",
              "      <td>2.0</td>\n",
              "      <td>3.0</td>\n",
              "      <td>3.0</td>\n",
              "      <td>0.0</td>\n",
              "      <td>1.0</td>\n",
              "      <td>0.0</td>\n",
              "    </tr>\n",
              "    <tr>\n",
              "      <th>7773</th>\n",
              "      <td>0.0</td>\n",
              "      <td>0.0</td>\n",
              "      <td>0.0</td>\n",
              "      <td>0.0</td>\n",
              "      <td>1.0</td>\n",
              "      <td>0.0</td>\n",
              "      <td>0.2</td>\n",
              "      <td>0.2</td>\n",
              "      <td>0.0</td>\n",
              "      <td>0.0</td>\n",
              "      <td>2.0</td>\n",
              "      <td>3.0</td>\n",
              "      <td>2.0</td>\n",
              "      <td>3.0</td>\n",
              "      <td>3.0</td>\n",
              "      <td>0.0</td>\n",
              "      <td>1.0</td>\n",
              "      <td>0.0</td>\n",
              "    </tr>\n",
              "    <tr>\n",
              "      <th>4481</th>\n",
              "      <td>0.0</td>\n",
              "      <td>0.0</td>\n",
              "      <td>0.0</td>\n",
              "      <td>0.0</td>\n",
              "      <td>1.0</td>\n",
              "      <td>0.0</td>\n",
              "      <td>0.2</td>\n",
              "      <td>0.2</td>\n",
              "      <td>0.0</td>\n",
              "      <td>0.0</td>\n",
              "      <td>3.0</td>\n",
              "      <td>2.0</td>\n",
              "      <td>2.0</td>\n",
              "      <td>1.0</td>\n",
              "      <td>1.0</td>\n",
              "      <td>0.0</td>\n",
              "      <td>1.0</td>\n",
              "      <td>0.0</td>\n",
              "    </tr>\n",
              "    <tr>\n",
              "      <th>6576</th>\n",
              "      <td>0.0</td>\n",
              "      <td>0.0</td>\n",
              "      <td>0.0</td>\n",
              "      <td>0.0</td>\n",
              "      <td>1.0</td>\n",
              "      <td>0.0</td>\n",
              "      <td>0.2</td>\n",
              "      <td>0.2</td>\n",
              "      <td>0.0</td>\n",
              "      <td>0.0</td>\n",
              "      <td>3.0</td>\n",
              "      <td>2.0</td>\n",
              "      <td>2.0</td>\n",
              "      <td>2.0</td>\n",
              "      <td>1.0</td>\n",
              "      <td>0.0</td>\n",
              "      <td>1.0</td>\n",
              "      <td>0.0</td>\n",
              "    </tr>\n",
              "    <tr>\n",
              "      <th>5557</th>\n",
              "      <td>0.0</td>\n",
              "      <td>0.0</td>\n",
              "      <td>0.0</td>\n",
              "      <td>0.0</td>\n",
              "      <td>1.0</td>\n",
              "      <td>0.0</td>\n",
              "      <td>0.2</td>\n",
              "      <td>0.2</td>\n",
              "      <td>0.0</td>\n",
              "      <td>0.0</td>\n",
              "      <td>5.0</td>\n",
              "      <td>2.0</td>\n",
              "      <td>2.0</td>\n",
              "      <td>1.0</td>\n",
              "      <td>1.0</td>\n",
              "      <td>0.0</td>\n",
              "      <td>1.0</td>\n",
              "      <td>0.0</td>\n",
              "    </tr>\n",
              "    <tr>\n",
              "      <th>7893</th>\n",
              "      <td>0.0</td>\n",
              "      <td>0.0</td>\n",
              "      <td>0.0</td>\n",
              "      <td>0.0</td>\n",
              "      <td>1.0</td>\n",
              "      <td>0.0</td>\n",
              "      <td>0.2</td>\n",
              "      <td>0.2</td>\n",
              "      <td>0.0</td>\n",
              "      <td>0.0</td>\n",
              "      <td>12.0</td>\n",
              "      <td>1.0</td>\n",
              "      <td>1.0</td>\n",
              "      <td>1.0</td>\n",
              "      <td>1.0</td>\n",
              "      <td>0.0</td>\n",
              "      <td>1.0</td>\n",
              "      <td>1.0</td>\n",
              "    </tr>\n",
              "    <tr>\n",
              "      <th>7764</th>\n",
              "      <td>0.0</td>\n",
              "      <td>0.0</td>\n",
              "      <td>0.0</td>\n",
              "      <td>0.0</td>\n",
              "      <td>1.0</td>\n",
              "      <td>0.0</td>\n",
              "      <td>0.2</td>\n",
              "      <td>0.2</td>\n",
              "      <td>0.0</td>\n",
              "      <td>0.0</td>\n",
              "      <td>5.0</td>\n",
              "      <td>2.0</td>\n",
              "      <td>2.0</td>\n",
              "      <td>7.0</td>\n",
              "      <td>4.0</td>\n",
              "      <td>0.0</td>\n",
              "      <td>1.0</td>\n",
              "      <td>0.0</td>\n",
              "    </tr>\n",
              "    <tr>\n",
              "      <th>7628</th>\n",
              "      <td>0.0</td>\n",
              "      <td>0.0</td>\n",
              "      <td>0.0</td>\n",
              "      <td>0.0</td>\n",
              "      <td>1.0</td>\n",
              "      <td>0.0</td>\n",
              "      <td>0.2</td>\n",
              "      <td>0.2</td>\n",
              "      <td>0.0</td>\n",
              "      <td>0.0</td>\n",
              "      <td>5.0</td>\n",
              "      <td>2.0</td>\n",
              "      <td>2.0</td>\n",
              "      <td>1.0</td>\n",
              "      <td>3.0</td>\n",
              "      <td>0.0</td>\n",
              "      <td>1.0</td>\n",
              "      <td>0.0</td>\n",
              "    </tr>\n",
              "  </tbody>\n",
              "</table>\n",
              "</div>"
            ],
            "text/plain": [
              "       0    1    2    3    4    5    6   ...   11   12   13    14   15   16   17\n",
              "8950  0.0  0.0  0.0  0.0  1.0  0.0  0.2  ...  3.0  2.0  7.0  13.0  0.0  1.0  0.0\n",
              "7319  0.0  0.0  0.0  0.0  1.0  0.0  0.2  ...  1.0  1.0  8.0   1.0  0.0  1.0  0.0\n",
              "2498  0.0  0.0  0.0  0.0  1.0  0.0  0.2  ...  2.0  2.0  3.0   1.0  0.0  1.0  0.0\n",
              "3326  0.0  0.0  0.0  0.0  1.0  0.0  0.2  ...  2.0  2.0  1.0   1.0  0.0  1.0  0.0\n",
              "3426  0.0  0.0  0.0  0.0  1.0  0.0  0.2  ...  3.0  2.0  3.0   3.0  0.0  1.0  0.0\n",
              "7773  0.0  0.0  0.0  0.0  1.0  0.0  0.2  ...  3.0  2.0  3.0   3.0  0.0  1.0  0.0\n",
              "4481  0.0  0.0  0.0  0.0  1.0  0.0  0.2  ...  2.0  2.0  1.0   1.0  0.0  1.0  0.0\n",
              "6576  0.0  0.0  0.0  0.0  1.0  0.0  0.2  ...  2.0  2.0  2.0   1.0  0.0  1.0  0.0\n",
              "5557  0.0  0.0  0.0  0.0  1.0  0.0  0.2  ...  2.0  2.0  1.0   1.0  0.0  1.0  0.0\n",
              "7893  0.0  0.0  0.0  0.0  1.0  0.0  0.2  ...  1.0  1.0  1.0   1.0  0.0  1.0  1.0\n",
              "7764  0.0  0.0  0.0  0.0  1.0  0.0  0.2  ...  2.0  2.0  7.0   4.0  0.0  1.0  0.0\n",
              "7628  0.0  0.0  0.0  0.0  1.0  0.0  0.2  ...  2.0  2.0  1.0   3.0  0.0  1.0  0.0\n",
              "\n",
              "[12 rows x 18 columns]"
            ]
          },
          "metadata": {
            "tags": []
          }
        }
      ]
    },
    {
      "cell_type": "markdown",
      "metadata": {
        "colab_type": "text",
        "id": "clGpFO27t8KJ"
      },
      "source": [
        "####persistimos los datos de Test para futuros usos:"
      ]
    },
    {
      "cell_type": "code",
      "metadata": {
        "id": "pI_vJ5U8k076",
        "colab_type": "code",
        "colab": {}
      },
      "source": [
        "#guardamos en un `dict` X_test e y_test SIN aplicar SMOTE, agregando un comment\n",
        "\n",
        "features_target_dict = {'X_test':X_test, 'y_test':y_test, 'comentario':'Conjunto de Features y Target, [sin SMOTE] de datos de test, reservados con train_test_split().'}\n",
        "\n",
        "with open('{}online_shoppers_intention_dummies_X_test-y_test.pkl'.format(path), 'wb') as f_Xy:\n",
        "    pickle.dump(features_target_dict, f_Xy)"
      ],
      "execution_count": 0,
      "outputs": []
    },
    {
      "cell_type": "code",
      "metadata": {
        "id": "0gik9zaKOtKu",
        "colab_type": "code",
        "colab": {}
      },
      "source": [
        "# para evitar confusiones con los datos, borramos los que no vamos a usar\n",
        "#del X_bal_test\n",
        "#del y_bal_test"
      ],
      "execution_count": 0,
      "outputs": []
    },
    {
      "cell_type": "markdown",
      "metadata": {
        "id": "17SfLuoTlTKR",
        "colab_type": "text"
      },
      "source": [
        "\n",
        "\n",
        "---\n",
        "\n"
      ]
    },
    {
      "cell_type": "markdown",
      "metadata": {
        "id": "EsWCccgfhFlJ",
        "colab_type": "text"
      },
      "source": [
        "### Pipeline simple sin Gridsearch"
      ]
    },
    {
      "cell_type": "markdown",
      "metadata": {
        "id": "N_x3MbkLhFlK",
        "colab_type": "text"
      },
      "source": [
        "Importamos y creamos el pipeline. Lo entrenamos con el set de entrenamiento y lo ejecutamos sobre el test."
      ]
    },
    {
      "cell_type": "code",
      "metadata": {
        "id": "2G4uuSg_ban0",
        "colab_type": "code",
        "colab": {}
      },
      "source": [
        "# Del módulo de preprocesamiento de sklearn, \n",
        "# vamos a importar a la clase StandardScaler \n",
        "# para normalizar nuestros datos.\n",
        "from sklearn.preprocessing import StandardScaler\n",
        "\n",
        "# vamos a importar a la clase MinMaxScaler \n",
        "# para normalizar nuestros datos para el modelo MultinomialNB que no admite valores negativos.\n",
        "from sklearn.preprocessing import MinMaxScaler\n",
        "\n",
        "# Importamos la clase PCA del modulo decomposition de la librería Sklearn.\n",
        "from sklearn.decomposition import PCA"
      ],
      "execution_count": 0,
      "outputs": []
    },
    {
      "cell_type": "markdown",
      "metadata": {
        "id": "lFISaxIBTeeO",
        "colab_type": "text"
      },
      "source": [
        "\n",
        "\n",
        "```\n",
        "pipeline = Pipeline(steps=[\n",
        "    ('select', VarianceThreshold()),\n",
        "    ('standardize', StandardScaler()),\n",
        "    ('classify', SGDClassifier())\n",
        "])\n",
        "\n",
        "cv_pipeline = GridSearchCV(estimator=pipeline, param_grid=param_grid)\n",
        "cv_pipeline.fit(X=X_train, y=y_train)\n",
        "final_pipeline = cv_pipeline.best_estimator_\n",
        "final_classifier = final_pipeline.named_steps['classify']\n",
        "```\n",
        "\n"
      ]
    },
    {
      "cell_type": "code",
      "metadata": {
        "id": "vpLkTIYjkhyf",
        "colab_type": "code",
        "colab": {}
      },
      "source": [
        "from sklearn.base import BaseEstimator\n",
        "from sklearn.pipeline import Pipeline\n",
        "from sklearn.linear_model import LogisticRegression\n",
        "from sklearn.neighbors import KNeighborsClassifier\n",
        "from sklearn.naive_bayes import GaussianNB\n",
        "from sklearn.naive_bayes import MultinomialNB\n",
        "from sklearn.naive_bayes import BernoulliNB"
      ],
      "execution_count": 0,
      "outputs": []
    },
    {
      "cell_type": "code",
      "metadata": {
        "id": "0bxBmRplhFlL",
        "colab_type": "code",
        "colab": {}
      },
      "source": [
        "# inicializamos pre-procesadores\n",
        "scaler = StandardScaler()\n",
        "minmax = MinMaxScaler(feature_range=(0,1))\n",
        "pca = PCA()\n",
        "\n",
        "# inicializamos modelos clasificadores\n",
        "clfr1 = LogisticRegression(n_jobs=-1)\n",
        "clfr2 = KNeighborsClassifier(n_jobs=-1)\n",
        "clfr3 = GaussianNB()\n",
        "clfr4 = MultinomialNB()\n",
        "clfr5 = BernoulliNB()\n",
        "\n",
        "# define un estimador que no hace nada, para inicilizar el pipeline\n",
        "class DummyEstimator(BaseEstimator):\n",
        "    def fit(self): pass\n",
        "    def score(self): pass\n",
        "\n",
        "pipeline = Pipeline([\n",
        "        ('scaler', scaler)\n",
        "      , ('minmax', minmax)\n",
        "      , ('pca', pca)\n",
        "      , ('clf', DummyEstimator())\n",
        "    ])"
      ],
      "execution_count": 0,
      "outputs": []
    },
    {
      "cell_type": "markdown",
      "metadata": {
        "colab_type": "text",
        "id": "cXIXowFVILnO"
      },
      "source": [
        "## 3. Combinando pipelines y GridSearchCV"
      ]
    },
    {
      "cell_type": "markdown",
      "metadata": {
        "colab_type": "text",
        "id": "FXSXp8BpILnN"
      },
      "source": [
        "Veamos ahora como utilizar conjuntamente los pipelines junto con el tunning de hiperparámetros con `GridSearchCV`"
      ]
    },
    {
      "cell_type": "code",
      "metadata": {
        "colab_type": "code",
        "id": "3VAqlrgBILnE",
        "colab": {}
      },
      "source": [
        "from sklearn.model_selection import GridSearchCV\n"
      ],
      "execution_count": 0,
      "outputs": []
    },
    {
      "cell_type": "markdown",
      "metadata": {
        "colab_type": "text",
        "id": "1wAQyASTILnD"
      },
      "source": [
        "Generamos un pipeline que tiene tres etapas:\n",
        "\n",
        "1. Un vectorizador de texto: `CountVectorizer`\n",
        "2. Un transformador de la matriz original `TfidfTransformer`\n",
        "3. Un clasificador basado en Multinomial Naive Bayes\n",
        "\n",
        "Notar que en este caso no los instanciamos previamente."
      ]
    },
    {
      "cell_type": "code",
      "metadata": {
        "colab_type": "code",
        "id": "zEU47c2nILm9",
        "colab": {}
      },
      "source": [
        "# por ahora usamos el pipeline definido más arriba\n",
        "#pipeline = Pipeline([\n",
        "#   ('vect', CountVectorizer()), \n",
        "#   ('tfidf', TfidfTransformer()), \n",
        "#   ('clf', MultinomialNB()), \n",
        "#])"
      ],
      "execution_count": 0,
      "outputs": []
    },
    {
      "cell_type": "markdown",
      "metadata": {
        "colab_type": "text",
        "id": "jOCFT6LoILm8"
      },
      "source": [
        "\n",
        "#### Experimentación\n",
        "\n",
        "* Definimos los parámetros a buscar.\n",
        "  - Es importante notar la forma en que se pasan los parámetros: en general, se escriben `[nombre de la etapa]__[parametro]`.\n"
      ]
    },
    {
      "cell_type": "code",
      "metadata": {
        "colab_type": "code",
        "id": "O0Mofr_8ILm5",
        "colab": {}
      },
      "source": [
        "pca_range = list(range(7, 17, 2))    #rango de n_components para PCA\n",
        "lrC_range = np.logspace(-4, 4, 9)     #rango de C para LogisticRegression\n",
        "kn_range = list(range(1, 16))         #rango de n_neighbors para KNeighborsClassifier\n",
        "gnb_range = np.logspace(-9, -1, 9)    #rango de var_smooting para GaussianNB\n",
        "\n",
        "# configuramos los hiperparámetros para la grilla\n",
        "param_grid = [{\n",
        "    'scaler':[scaler]\n",
        "    , 'minmax':[None]\n",
        "    , 'pca__n_components':pca_range\n",
        "    , 'pca__svd_solver':['full']\n",
        "    , 'clf': [LogisticRegression(n_jobs=-1)]\n",
        "    , 'clf__C': lrC_range\n",
        "    , 'clf__penalty':['l1', 'l2']\n",
        "    , 'clf__solver':['liblinear']\n",
        "}, {\n",
        "    'scaler':[scaler]\n",
        "    , 'minmax':[None]\n",
        "    , 'pca':[None]\n",
        "    , 'clf': [LogisticRegression(n_jobs=-1)]\n",
        "    , 'clf__C': lrC_range\n",
        "    , 'clf__penalty':['l1', 'l2']\n",
        "    , 'clf__solver':['liblinear']\n",
        "}, {\n",
        "    'scaler':[scaler]\n",
        "    , 'minmax':[None]\n",
        "    , 'pca__n_components':pca_range\n",
        "    , 'pca__svd_solver':['full']\n",
        "    , 'clf':[KNeighborsClassifier(n_jobs=-1)]\n",
        "    , 'clf__n_neighbors':kn_range\n",
        "}, {\n",
        "    'scaler':[scaler]\n",
        "    , 'minmax':[None]\n",
        "    , 'pca':[None]\n",
        "    , 'clf':[KNeighborsClassifier(n_jobs=-1)]\n",
        "    , 'clf__n_neighbors':kn_range\n",
        "}, {\n",
        "    'scaler':[scaler]\n",
        "    , 'minmax':[None]\n",
        "    , 'pca__n_components':pca_range\n",
        "    , 'pca__svd_solver':['full']\n",
        "    , 'clf':[GaussianNB()]\n",
        "    , 'clf__var_smoothing':gnb_range\n",
        "}, {\n",
        "    'scaler':[scaler]\n",
        "    , 'minmax':[None]\n",
        "    , 'pca':[None]\n",
        "    , 'clf':[GaussianNB()]\n",
        "    , 'clf__var_smoothing':gnb_range\n",
        "}, {\n",
        "    'scaler':[scaler]\n",
        "    , 'minmax':[None]\n",
        "    , 'pca__n_components':pca_range\n",
        "    , 'pca__svd_solver':['full']\n",
        "    , 'clf':[BernoulliNB()]\n",
        "}, {\n",
        "    'scaler':[scaler]\n",
        "    , 'minmax':[None]\n",
        "    , 'pca':[None]\n",
        "    , 'clf':[BernoulliNB()]\n",
        "#}, {\n",
        "#    'scaler':[None]\n",
        "#    , 'minmax':[minmax]\n",
        "#    , 'pca__n_components':pca_range\n",
        "#    , 'pca__svd_solver':['full']\n",
        "#    , 'clf':[MultinomialNB()]\n",
        "#}, {\n",
        "#    'scaler':[None]\n",
        "#    , 'minmax':[minmax]\n",
        "#    , 'pca':[None]\n",
        "#    , 'clf':[MultinomialNB()]\n",
        "}]\n"
      ],
      "execution_count": 0,
      "outputs": []
    },
    {
      "cell_type": "markdown",
      "metadata": {
        "id": "cII57NNbURhu",
        "colab_type": "text"
      },
      "source": [
        "\n",
        "\n",
        "```\n",
        "import sklearn as skl\n",
        "skl.metrics.SCORERS.keys()\n",
        "```\n",
        "**`dict_keys(['explained_variance', 'r2', 'max_error', 'neg_median_absolute_error', 'neg_mean_absolute_error', 'neg_mean_squared_error', 'neg_mean_squared_log_error', 'accuracy', 'roc_auc', 'balanced_accuracy', 'average_precision', 'neg_log_loss', 'brier_score_loss', 'adjusted_rand_score', 'homogeneity_score', 'completeness_score', 'v_measure_score', 'mutual_info_score', 'adjusted_mutual_info_score', 'normalized_mutual_info_score', 'fowlkes_mallows_score', 'precision', 'precision_macro', 'precision_micro', 'precision_samples', 'precision_weighted', 'recall', 'recall_macro', 'recall_micro', 'recall_samples', 'recall_weighted', 'f1', 'f1_macro', 'f1_micro', 'f1_samples', 'f1_weighted', 'jaccard', 'jaccard_macro', 'jaccard_micro', 'jaccard_samples', 'jaccard_weighted'])`**"
      ]
    },
    {
      "cell_type": "code",
      "metadata": {
        "colab_type": "code",
        "id": "M5SOu88KILmz",
        "colab": {}
      },
      "source": [
        "#grid_search = GridSearchCV(pipeline, param_grid, cv=7, scoring='accuracy', n_jobs = -1 , verbose = 2 )\n",
        "#grid_search = GridSearchCV(pipeline, param_grid, cv=7, scoring='precision', n_jobs = -1 , verbose = 2 )\n",
        "grid_search = GridSearchCV(pipeline, param_grid, cv=7, scoring='f1', n_jobs = -1 , verbose = 2 )"
      ],
      "execution_count": 0,
      "outputs": []
    },
    {
      "cell_type": "code",
      "metadata": {
        "colab_type": "code",
        "outputId": "f96dfb81-bd22-4d97-ab02-d7febd2d61e1",
        "id": "0Vy7hub6ILmj",
        "colab": {
          "base_uri": "https://localhost:8080/",
          "height": 656
        }
      },
      "source": [
        "print(\"Performing grid search...\") \n",
        "#grid_search.fit(X_train, y_train)\n",
        "grid_search.fit(X_bal_train, y_bal_train)"
      ],
      "execution_count": 0,
      "outputs": [
        {
          "output_type": "stream",
          "text": [
            "Performing grid search...\n",
            "Fitting 7 folds for each of 258 candidates, totalling 1806 fits\n"
          ],
          "name": "stdout"
        },
        {
          "output_type": "stream",
          "text": [
            "[Parallel(n_jobs=-1)]: Using backend LokyBackend with 2 concurrent workers.\n",
            "[Parallel(n_jobs=-1)]: Done  37 tasks      | elapsed:    3.5s\n",
            "[Parallel(n_jobs=-1)]: Done 158 tasks      | elapsed:   12.7s\n",
            "[Parallel(n_jobs=-1)]: Done 361 tasks      | elapsed:   32.9s\n",
            "[Parallel(n_jobs=-1)]: Done 644 tasks      | elapsed:  1.0min\n",
            "[Parallel(n_jobs=-1)]: Done 1009 tasks      | elapsed:  2.2min\n",
            "[Parallel(n_jobs=-1)]: Done 1491 tasks      | elapsed:  4.7min\n",
            "[Parallel(n_jobs=-1)]: Done 1806 out of 1806 | elapsed:  4.9min finished\n"
          ],
          "name": "stderr"
        },
        {
          "output_type": "execute_result",
          "data": {
            "text/plain": [
              "GridSearchCV(cv=7, error_score='raise-deprecating',\n",
              "             estimator=Pipeline(memory=None,\n",
              "                                steps=[('scaler',\n",
              "                                        StandardScaler(copy=True,\n",
              "                                                       with_mean=True,\n",
              "                                                       with_std=True)),\n",
              "                                       ('minmax',\n",
              "                                        MinMaxScaler(copy=True,\n",
              "                                                     feature_range=(0, 1))),\n",
              "                                       ('pca',\n",
              "                                        PCA(copy=True, iterated_power='auto',\n",
              "                                            n_components=None,\n",
              "                                            random_state=None,\n",
              "                                            svd_solver='auto', tol=0.0,\n",
              "                                            whiten=False)),\n",
              "                                       ('clf', DummyEstimator...\n",
              "                          'pca__svd_solver': ['full'],\n",
              "                          'scaler': [StandardScaler(copy=True, with_mean=True,\n",
              "                                                    with_std=True)]},\n",
              "                         {'clf': [BernoulliNB(alpha=1.0, binarize=0.0,\n",
              "                                              class_prior=None,\n",
              "                                              fit_prior=True)],\n",
              "                          'minmax': [None], 'pca': [None],\n",
              "                          'scaler': [StandardScaler(copy=True, with_mean=True,\n",
              "                                                    with_std=True)]}],\n",
              "             pre_dispatch='2*n_jobs', refit=True, return_train_score=False,\n",
              "             scoring='f1', verbose=2)"
            ]
          },
          "metadata": {
            "tags": []
          },
          "execution_count": 72
        }
      ]
    },
    {
      "cell_type": "markdown",
      "metadata": {
        "colab_type": "text",
        "id": "FCswowLCILmf"
      },
      "source": [
        "####Obtenemos los mejores parámetros"
      ]
    },
    {
      "cell_type": "code",
      "metadata": {
        "colab_type": "code",
        "outputId": "f4f49a48-37df-4846-d4b8-b5fc09a9ab2d",
        "id": "xMXjufB6ILl9",
        "colab": {
          "base_uri": "https://localhost:8080/",
          "height": 452
        }
      },
      "source": [
        "print(\"Best score: %0.3f\" % grid_search.best_score_) \n",
        "print(\"Best parameters set:\" )\n",
        "best_parameters = grid_search.best_estimator_.get_params()\n",
        "for param_name in best_parameters: \n",
        "                    print(\"\\t %s: %r\" % (param_name, best_parameters[param_name])) "
      ],
      "execution_count": 0,
      "outputs": [
        {
          "output_type": "stream",
          "text": [
            "Best score: 0.815\n",
            "Best parameters set:\n",
            "\t memory: None\n",
            "\t steps: [('scaler', StandardScaler(copy=True, with_mean=True, with_std=True)), ('minmax', None), ('pca', None), ('clf', KNeighborsClassifier(algorithm='auto', leaf_size=30, metric='minkowski',\n",
            "                     metric_params=None, n_jobs=-1, n_neighbors=1, p=2,\n",
            "                     weights='uniform'))]\n",
            "\t verbose: False\n",
            "\t scaler: StandardScaler(copy=True, with_mean=True, with_std=True)\n",
            "\t minmax: None\n",
            "\t pca: None\n",
            "\t clf: KNeighborsClassifier(algorithm='auto', leaf_size=30, metric='minkowski',\n",
            "                     metric_params=None, n_jobs=-1, n_neighbors=1, p=2,\n",
            "                     weights='uniform')\n",
            "\t scaler__copy: True\n",
            "\t scaler__with_mean: True\n",
            "\t scaler__with_std: True\n",
            "\t clf__algorithm: 'auto'\n",
            "\t clf__leaf_size: 30\n",
            "\t clf__metric: 'minkowski'\n",
            "\t clf__metric_params: None\n",
            "\t clf__n_jobs: -1\n",
            "\t clf__n_neighbors: 1\n",
            "\t clf__p: 2\n",
            "\t clf__weights: 'uniform'\n"
          ],
          "name": "stdout"
        }
      ]
    },
    {
      "cell_type": "markdown",
      "metadata": {
        "colab_type": "text",
        "id": "YIcD_uKwILl8"
      },
      "source": [
        "#### Evaluando la performance de la búsqueda sobre datos no observados"
      ]
    },
    {
      "cell_type": "code",
      "metadata": {
        "colab_type": "code",
        "outputId": "63e6eb66-6fa8-40b6-8a61-6b5ba39f6ebb",
        "id": "IIkLKBG8ILlr",
        "colab": {
          "base_uri": "https://localhost:8080/",
          "height": 190
        }
      },
      "source": [
        "best_model = grid_search.best_estimator_\n",
        "best_model.fit(X_bal_train,y_bal_train)"
      ],
      "execution_count": 0,
      "outputs": [
        {
          "output_type": "execute_result",
          "data": {
            "text/plain": [
              "Pipeline(memory=None,\n",
              "         steps=[('scaler',\n",
              "                 StandardScaler(copy=True, with_mean=True, with_std=True)),\n",
              "                ('minmax', None), ('pca', None),\n",
              "                ('clf',\n",
              "                 KNeighborsClassifier(algorithm='auto', leaf_size=30,\n",
              "                                      metric='minkowski', metric_params=None,\n",
              "                                      n_jobs=-1, n_neighbors=1, p=2,\n",
              "                                      weights='uniform'))],\n",
              "         verbose=False)"
            ]
          },
          "metadata": {
            "tags": []
          },
          "execution_count": 74
        }
      ]
    },
    {
      "cell_type": "markdown",
      "metadata": {
        "id": "CfkGt8TVhiWw",
        "colab_type": "text"
      },
      "source": [
        "##### persistimos el mejor modelo encontrado en el GridSearchCV."
      ]
    },
    {
      "cell_type": "code",
      "metadata": {
        "colab_type": "code",
        "id": "x-ASYzOJp1QA",
        "colab": {}
      },
      "source": [
        "import pickle"
      ],
      "execution_count": 0,
      "outputs": []
    },
    {
      "cell_type": "code",
      "metadata": {
        "colab_type": "code",
        "id": "DWQLyseep1QN",
        "colab": {}
      },
      "source": [
        "with open('{}online_shoppers_intention_best_model.pkl'.format(path), 'wb') as f_pkl:\n",
        "    pickle.dump(best_model, f_pkl)"
      ],
      "execution_count": 0,
      "outputs": []
    },
    {
      "cell_type": "code",
      "metadata": {
        "id": "E0xHzuFYLzT6",
        "colab_type": "code",
        "colab": {}
      },
      "source": [
        "with open('{}mejor_clasificador.pkl'.format(path), 'wb') as f:\n",
        "    pickle.dump({'modelo':best_model, 'scaler':scaler, 'pipeline':pipeline, 'param_grid':param_grid}, f)    "
      ],
      "execution_count": 0,
      "outputs": []
    },
    {
      "cell_type": "code",
      "metadata": {
        "id": "fLExyAIBETN0",
        "colab_type": "code",
        "outputId": "72135f3c-148f-46dc-c774-40cfa6ec00f0",
        "colab": {
          "base_uri": "https://localhost:8080/",
          "height": 89
        }
      },
      "source": [
        "\n",
        "print (best_model.steps)\n",
        "#print (best_model.pca.explained_variance_ratio_)\n",
        "#print (best_model.pca.explained_variance_ratio_.cumsum())"
      ],
      "execution_count": 0,
      "outputs": [
        {
          "output_type": "stream",
          "text": [
            "[('scaler', StandardScaler(copy=True, with_mean=True, with_std=True)), ('minmax', None), ('pca', None), ('clf', KNeighborsClassifier(algorithm='auto', leaf_size=30, metric='minkowski',\n",
            "                     metric_params=None, n_jobs=-1, n_neighbors=1, p=2,\n",
            "                     weights='uniform'))]\n"
          ],
          "name": "stdout"
        }
      ]
    },
    {
      "cell_type": "code",
      "metadata": {
        "colab_type": "code",
        "id": "2stjY0dCILlb",
        "colab": {}
      },
      "source": [
        "y_pred = best_model.predict(X_test)"
      ],
      "execution_count": 0,
      "outputs": []
    },
    {
      "cell_type": "code",
      "metadata": {
        "colab_type": "code",
        "outputId": "e8c7149c-6639-475e-ebfe-16f9cb2c895e",
        "id": "zAKxusSWILkg",
        "colab": {
          "base_uri": "https://localhost:8080/",
          "height": 173
        }
      },
      "source": [
        "from sklearn.metrics import classification_report\n",
        "from sklearn.metrics import accuracy_score\n",
        "print(classification_report(y_test, y_pred))"
      ],
      "execution_count": 0,
      "outputs": [
        {
          "output_type": "stream",
          "text": [
            "              precision    recall  f1-score   support\n",
            "\n",
            "           0       0.90      0.88      0.89      2597\n",
            "           1       0.42      0.47      0.44       486\n",
            "\n",
            "    accuracy                           0.81      3083\n",
            "   macro avg       0.66      0.67      0.66      3083\n",
            "weighted avg       0.82      0.81      0.82      3083\n",
            "\n"
          ],
          "name": "stdout"
        }
      ]
    },
    {
      "cell_type": "code",
      "metadata": {
        "colab_type": "code",
        "id": "D9QzynHJoAjT",
        "outputId": "d7eb8b79-4b78-4061-bb2c-f79acfa7c700",
        "colab": {
          "base_uri": "https://localhost:8080/",
          "height": 325
        }
      },
      "source": [
        "# Elaboramos la matriz de confusión:\n",
        "from sklearn.metrics import confusion_matrix, accuracy_score\n",
        "\n",
        "print(confusion_matrix(y_test, y_pred))\n",
        "\n",
        "sns.set(rc={'figure.figsize':(5,4)})\n",
        "sns_cfmx = sns.heatmap(confusion_matrix(y_test, y_pred), annot=True, fmt=\"d\", linewidths=.5, cmap=\"OrRd_r\", cbar=False)\n",
        "\n",
        "#print(accuracy_score(y_test, y_pred_test))\n",
        "plt.ylabel('Verdaderos')\n",
        "plt.xlabel('Predichos');\n",
        "\n",
        "sns_cfmx.plot()\n",
        "fig = sns_cfmx.get_figure()\n",
        "fig.savefig(\"{}BestModel_confMatrix_heatmap.png\".format(path), dpi=400)"
      ],
      "execution_count": 0,
      "outputs": [
        {
          "output_type": "stream",
          "text": [
            "[[2276  321]\n",
            " [ 257  229]]\n"
          ],
          "name": "stdout"
        },
        {
          "output_type": "display_data",
          "data": {
            "image/png": "[encoded data removed]",
            "text/plain": [
              "<Figure size 360x288 with 1 Axes>"
            ]
          },
          "metadata": {
            "tags": []
          }
        }
      ]
    },
    {
      "cell_type": "code",
      "metadata": {
        "id": "5-iIx8X74efF",
        "colab_type": "code",
        "outputId": "4b987311-eb8a-4213-def0-9ca20e90c324",
        "colab": {
          "base_uri": "https://localhost:8080/",
          "height": 35
        }
      },
      "source": [
        "print('Accuracy score = {}'.format(accuracy_score(y_test, y_pred)))"
      ],
      "execution_count": 0,
      "outputs": [
        {
          "output_type": "stream",
          "text": [
            "Accuracy score = 0.8125202724618877\n"
          ],
          "name": "stdout"
        }
      ]
    },
    {
      "cell_type": "code",
      "metadata": {
        "id": "HrhIMgZJ9khC",
        "colab_type": "code",
        "outputId": "f4171522-e78d-4971-d358-b4d728f4b93f",
        "colab": {
          "base_uri": "https://localhost:8080/",
          "height": 35
        }
      },
      "source": [
        "from sklearn.metrics import recall_score\n",
        "\n",
        "# sensitivity = TP / float(FN + TP)\n",
        "print('Recall score = {}'.format(recall_score(y_test, y_pred)))"
      ],
      "execution_count": 0,
      "outputs": [
        {
          "output_type": "stream",
          "text": [
            "Recall score = 0.4711934156378601\n"
          ],
          "name": "stdout"
        }
      ]
    },
    {
      "cell_type": "code",
      "metadata": {
        "id": "rvFqwbO6-ycb",
        "colab_type": "code",
        "outputId": "9cb9808c-5e3c-4e1f-e308-a92d4e2189cd",
        "colab": {
          "base_uri": "https://localhost:8080/",
          "height": 35
        }
      },
      "source": [
        "from sklearn.metrics import precision_score\n",
        "\n",
        "# precision = TP / float(TP + FP)\n",
        "print('Precision score = {}'.format(precision_score(y_test, y_pred)))"
      ],
      "execution_count": 0,
      "outputs": [
        {
          "output_type": "stream",
          "text": [
            "Precision score = 0.4163636363636364\n"
          ],
          "name": "stdout"
        }
      ]
    },
    {
      "cell_type": "code",
      "metadata": {
        "id": "VHpDQ81N8ylS",
        "colab_type": "code",
        "outputId": "686c134a-5567-4f7a-c168-d7a756b3fc2d",
        "colab": {
          "base_uri": "https://localhost:8080/",
          "height": 535
        }
      },
      "source": [
        "from sklearn.metrics import roc_auc_score\n",
        "from sklearn.metrics import roc_curve\n",
        "\n",
        "logit_roc_auc = roc_auc_score(y_test, y_pred)\n",
        "fpr, tpr, thresholds = roc_curve(y_test, best_model.predict_proba(X_test)[:,1])\n",
        "\n",
        "\n",
        "print('Mejor modelo encontrado (área = %0.2f)' % logit_roc_auc)\n",
        "\n",
        "plt.figure(figsize=(8,8))\n",
        "plt.plot(fpr, tpr, label='Mejor modelo encontrado (área = %0.2f)' % logit_roc_auc)\n",
        "plt.plot([0, 1], [0, 1],'r--')\n",
        "plt.xlim([-0.05, 1.05])\n",
        "plt.ylim([0.0, 1.05])\n",
        "plt.xlabel('Tasa de Falsos Positivos')\n",
        "plt.ylabel('Tasa de Verdaderos Positivos (Recall)')\n",
        "plt.title('Curva ROC'+' Mejor Modelo (área = %0.2f)' % logit_roc_auc)\n",
        "plt.legend(\"lower right\")\n",
        "plt.savefig(\"{}BestModel_ROC.png\".format(path), dpi=400)\n",
        "plt.show()"
      ],
      "execution_count": 0,
      "outputs": [
        {
          "output_type": "stream",
          "text": [
            "Mejor modelo encontrado (área = 0.67)\n"
          ],
          "name": "stdout"
        },
        {
          "output_type": "display_data",
          "data": {
            "image/png": "[encoded data removed]",
            "text/plain": [
              "<Figure size 576x576 with 1 Axes>"
            ]
          },
          "metadata": {
            "tags": []
          }
        }
      ]
    },
    {
      "cell_type": "code",
      "metadata": {
        "id": "7F4aCgVmNEsQ",
        "colab_type": "code",
        "colab": {}
      },
      "source": [
        "def plot_roc_curve(fpr, tpr, label=None):\n",
        "    plt.figure(figsize=(8,8))\n",
        "    plt.title('Curva ROC del mejor modelo')\n",
        "    plt.plot(fpr, tpr, linewidth=2, label=label)\n",
        "    plt.plot([0, 1], [0, 1], 'k--')\n",
        "    plt.axis([-0.005, 1, 0, 1.005])\n",
        "    plt.xticks(np.arange(0,1, 0.1), rotation=90)\n",
        "    plt.xlabel(\"Tasa de Falsos Positivos\")\n",
        "    plt.ylabel(\"Tasa de Verdaderos Positivos (Recall)\")\n",
        "    plt.legend(loc='best')"
      ],
      "execution_count": 0,
      "outputs": []
    },
    {
      "cell_type": "code",
      "metadata": {
        "id": "Nhx_l2_Js2yP",
        "colab_type": "code",
        "outputId": "26db8a8a-6fbe-452a-a2ce-9701c5d4a20a",
        "colab": {
          "base_uri": "https://localhost:8080/",
          "height": 526
        }
      },
      "source": [
        "fpr, tpr, thresholds = roc_curve(y_test, best_model.predict_proba(X_test)[:,1])\n",
        "plot_roc_curve(fpr, tpr, 'Mejor modelo analizado (área = %0.2f)' % logit_roc_auc)"
      ],
      "execution_count": 0,
      "outputs": [
        {
          "output_type": "display_data",
          "data": {
            "image/png": "[encoded data removed]",
            "text/plain": [
              "<Figure size 576x576 with 1 Axes>"
            ]
          },
          "metadata": {
            "tags": []
          }
        }
      ]
    },
    {
      "cell_type": "code",
      "metadata": {
        "id": "nIWxvTJjtKCh",
        "colab_type": "code",
        "colab": {}
      },
      "source": [
        ""
      ],
      "execution_count": 0,
      "outputs": []
    }
  ]
}