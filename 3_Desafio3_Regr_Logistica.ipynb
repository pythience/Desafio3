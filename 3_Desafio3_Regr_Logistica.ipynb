{
  "nbformat": 4,
  "nbformat_minor": 0,
  "metadata": {
    "colab": {
      "name": "3_Desafio3_Regr_Logistica.ipynb",
      "version": "0.3.2",
      "provenance": [],
      "collapsed_sections": []
    },
    "language_info": {
      "codemirror_mode": {
        "name": "ipython",
        "version": 3
      },
      "file_extension": ".py",
      "mimetype": "text/x-python",
      "name": "python",
      "nbconvert_exporter": "python",
      "pygments_lexer": "ipython3",
      "version": "3.6.6"
    },
    "kernelspec": {
      "display_name": "Python 3",
      "language": "python",
      "name": "python3"
    }
  },
  "cells": [
    {
      "cell_type": "markdown",
      "metadata": {
        "colab_type": "text",
        "id": "mYma6EF3hYLc"
      },
      "source": [
        "# Desafío 3: Regresión logística \n",
        "\n",
        "## Aplicamos el modelo `Logistic Regression` de `scikit-learn` a los datos de intenciones de compras en línea."
      ]
    },
    {
      "cell_type": "markdown",
      "metadata": {
        "colab_type": "text",
        "id": "oqNfbQYktPG-"
      },
      "source": [
        "## 1. Introducción\n",
        "\n",
        "**Información del DataSet:**\n",
        "\n",
        "El dataset consiste en vectores de características que pertenecen a 12330 sesiones. \n",
        "El conjunto de datos se conformó de manera que cada sesión pertenezca a un usuario diferente en un período de 1 año para evitar cualquier tendencia a una campaña específica, día especial, perfil de usuario o período. \n",
        "\n",
        "El conjunto de datos original consta de 10 atributos numéricos y 8 atributos categóricos. \n",
        "El atributo *'Revenue'* (Ingresos) se utiliza como etiqueta de clasificación. \n",
        "\n",
        "*\"Administrative\"* (Administrativa), *\"Administrative Duration\"* (Duración administrativa), *\"Informational\"* (Informativa), *\"Informational Duration\"* (Duración informativa), *\"Product Related\"* (Producto relacionado) y *\"Product Related Duration\"* (Duración producto relacionado) representan el número de diferentes tipos de páginas visitadas por el visitante en esa sesión y el tiempo total invertido en cada una de estas categorías de páginas. Los valores de estas funciones se derivan de la información de URL de las páginas visitadas por el usuario y se actualizan en tiempo real cuando un usuario realiza una acción, por ejemplo: pasar de una página a otra. \n",
        "\n",
        "*Respecto a Google Analytics:*\n",
        "Las características *\"Bounce Rate\"* (Tasa de rebote), *\"Exit Rate\"* (Tasa de salida) y ***\"Page Value\"* (Valor de la página)** representan las métricas medidas por \"Google Analytics\" para cada página en el sitio de comercio electrónico. El valor de la función \"Índice de rebote\" para una página web se refiere al porcentaje de visitantes que ingresan al sitio desde esa página y luego se van (\"rebote\") sin activar ninguna otra solicitud al servidor de análisis durante esa sesión. El valor de la columna \"Tasa de salida\" para una página web específica se calcula como el porcentaje del total de páginas en cada página fue la última en ser visitada en la sesión. La característica **\"Valor de página\"** representa el valor promedio de una página web que un usuario visitó antes de completar una transacción de comercio electrónico. \n",
        "\n",
        "*Otras características:*\n",
        "La función \"Día especial\" indica la proximidad del tiempo de visita del sitio a un día especial específico (por ejemplo, el Día de la Madre, el Día de San Valentín) en el que es más probable que las sesiones finalicen con la compra. El valor de este atributo se determina considerando la dinámica del comercio electrónico, como la duración entre la fecha del pedido y la fecha de entrega. Por ejemplo, para el día de San Valentín, este valor toma un valor distinto de cero entre el 2 de febrero y el 12 de febrero, cero antes y después de esta fecha a menos que esté cerca de otro día especial, y su valor máximo de 1 el 8 de febrero. El conjunto de datos también incluye sistema operativo, navegador, región, tipo de tráfico, tipo de visitante como visitante recurrente o nuevo, un valor booleano que indica si la fecha de la visita es el fin de semana y el mes del año.\n",
        "\n",
        "*Fuente: https://archive.ics.uci.edu/ml/datasets/Online+Shoppers+Purchasing+Intention+Dataset*\n"
      ]
    },
    {
      "cell_type": "code",
      "metadata": {
        "id": "aK0kri19r8D1",
        "colab_type": "code",
        "outputId": "64b768bd-8ba4-4113-8d43-8d1446dfefd4",
        "colab": {
          "base_uri": "https://localhost:8080/",
          "height": 55
        }
      },
      "source": [
        "from google.colab import drive \n",
        "drive.mount('/content/gdrive')"
      ],
      "execution_count": 0,
      "outputs": [
        {
          "output_type": "stream",
          "text": [
            "Drive already mounted at /content/gdrive; to attempt to forcibly remount, call drive.mount(\"/content/gdrive\", force_remount=True).\n"
          ],
          "name": "stdout"
        }
      ]
    },
    {
      "cell_type": "code",
      "metadata": {
        "id": "WbJiPKLC5Slr",
        "colab_type": "code",
        "colab": {}
      },
      "source": [
        "# para Anaconda:\n",
        "path = ''\n",
        "\n",
        "# para Cristian en Colab:\n",
        "path='gdrive/My Drive/DataScience - DH/Desafio3/'"
      ],
      "execution_count": 0,
      "outputs": []
    },
    {
      "cell_type": "markdown",
      "metadata": {
        "id": "oN1Tqcwlm9HA",
        "colab_type": "text"
      },
      "source": [
        "\n",
        "\n",
        "---\n",
        "\n",
        "\n",
        "\n",
        "---\n",
        "\n"
      ]
    },
    {
      "cell_type": "code",
      "metadata": {
        "colab_type": "code",
        "outputId": "68b1753a-466a-43a8-fa9c-81272895bcda",
        "id": "yBG6_YZsL5Bx",
        "colab": {
          "base_uri": "https://localhost:8080/",
          "height": 35
        }
      },
      "source": [
        "%pylab inline\n",
        "import pandas as pd\n",
        "import numpy as np\n",
        "import seaborn as sns\n",
        "from pylab import savefig"
      ],
      "execution_count": 0,
      "outputs": [
        {
          "output_type": "stream",
          "text": [
            "Populating the interactive namespace from numpy and matplotlib\n"
          ],
          "name": "stdout"
        }
      ]
    },
    {
      "cell_type": "code",
      "metadata": {
        "id": "VfEV-N49ugmx",
        "colab_type": "code",
        "colab": {}
      },
      "source": [
        "df = pd.read_pickle('{}online_shoppers_intention_dummies.pkl'.format(path))"
      ],
      "execution_count": 0,
      "outputs": []
    },
    {
      "cell_type": "markdown",
      "metadata": {
        "colab_type": "text",
        "id": "YjaZJKchjkrW"
      },
      "source": [
        "#### Armamos las matrices X e y "
      ]
    },
    {
      "cell_type": "code",
      "metadata": {
        "colab_type": "code",
        "id": "56h6yZMjhYNR",
        "outputId": "9f071b1d-6b06-4151-a839-46bdbc61b5d5",
        "colab": {
          "base_uri": "https://localhost:8080/",
          "height": 322
        }
      },
      "source": [
        "display(df.head())\n",
        "df.columns"
      ],
      "execution_count": 0,
      "outputs": [
        {
          "output_type": "display_data",
          "data": {
            "text/html": [
              "<div>\n",
              "<style scoped>\n",
              "    .dataframe tbody tr th:only-of-type {\n",
              "        vertical-align: middle;\n",
              "    }\n",
              "\n",
              "    .dataframe tbody tr th {\n",
              "        vertical-align: top;\n",
              "    }\n",
              "\n",
              "    .dataframe thead th {\n",
              "        text-align: right;\n",
              "    }\n",
              "</style>\n",
              "<table border=\"1\" class=\"dataframe\">\n",
              "  <thead>\n",
              "    <tr style=\"text-align: right;\">\n",
              "      <th></th>\n",
              "      <th>Administrative</th>\n",
              "      <th>Administrative_Duration</th>\n",
              "      <th>Informational</th>\n",
              "      <th>Informational_Duration</th>\n",
              "      <th>ProductRelated</th>\n",
              "      <th>ProductRelated_Duration</th>\n",
              "      <th>BounceRates</th>\n",
              "      <th>ExitRates</th>\n",
              "      <th>PageValues</th>\n",
              "      <th>SpecialDay</th>\n",
              "      <th>Month</th>\n",
              "      <th>OperatingSystems</th>\n",
              "      <th>Browser</th>\n",
              "      <th>Region</th>\n",
              "      <th>TrafficType</th>\n",
              "      <th>Revenue</th>\n",
              "      <th>New_Visitor</th>\n",
              "      <th>Returning_Visitor</th>\n",
              "      <th>Weekend_True</th>\n",
              "    </tr>\n",
              "  </thead>\n",
              "  <tbody>\n",
              "    <tr>\n",
              "      <th>0</th>\n",
              "      <td>0</td>\n",
              "      <td>0.0</td>\n",
              "      <td>0</td>\n",
              "      <td>0.0</td>\n",
              "      <td>1</td>\n",
              "      <td>0.000000</td>\n",
              "      <td>0.20</td>\n",
              "      <td>0.20</td>\n",
              "      <td>0.0</td>\n",
              "      <td>0.0</td>\n",
              "      <td>2</td>\n",
              "      <td>1</td>\n",
              "      <td>1</td>\n",
              "      <td>1</td>\n",
              "      <td>1</td>\n",
              "      <td>0</td>\n",
              "      <td>0</td>\n",
              "      <td>1</td>\n",
              "      <td>0</td>\n",
              "    </tr>\n",
              "    <tr>\n",
              "      <th>1</th>\n",
              "      <td>0</td>\n",
              "      <td>0.0</td>\n",
              "      <td>0</td>\n",
              "      <td>0.0</td>\n",
              "      <td>2</td>\n",
              "      <td>64.000000</td>\n",
              "      <td>0.00</td>\n",
              "      <td>0.10</td>\n",
              "      <td>0.0</td>\n",
              "      <td>0.0</td>\n",
              "      <td>2</td>\n",
              "      <td>2</td>\n",
              "      <td>2</td>\n",
              "      <td>1</td>\n",
              "      <td>2</td>\n",
              "      <td>0</td>\n",
              "      <td>0</td>\n",
              "      <td>1</td>\n",
              "      <td>0</td>\n",
              "    </tr>\n",
              "    <tr>\n",
              "      <th>2</th>\n",
              "      <td>0</td>\n",
              "      <td>0.0</td>\n",
              "      <td>0</td>\n",
              "      <td>0.0</td>\n",
              "      <td>1</td>\n",
              "      <td>0.000000</td>\n",
              "      <td>0.20</td>\n",
              "      <td>0.20</td>\n",
              "      <td>0.0</td>\n",
              "      <td>0.0</td>\n",
              "      <td>2</td>\n",
              "      <td>4</td>\n",
              "      <td>1</td>\n",
              "      <td>9</td>\n",
              "      <td>3</td>\n",
              "      <td>0</td>\n",
              "      <td>0</td>\n",
              "      <td>1</td>\n",
              "      <td>0</td>\n",
              "    </tr>\n",
              "    <tr>\n",
              "      <th>3</th>\n",
              "      <td>0</td>\n",
              "      <td>0.0</td>\n",
              "      <td>0</td>\n",
              "      <td>0.0</td>\n",
              "      <td>2</td>\n",
              "      <td>2.666667</td>\n",
              "      <td>0.05</td>\n",
              "      <td>0.14</td>\n",
              "      <td>0.0</td>\n",
              "      <td>0.0</td>\n",
              "      <td>2</td>\n",
              "      <td>3</td>\n",
              "      <td>2</td>\n",
              "      <td>2</td>\n",
              "      <td>4</td>\n",
              "      <td>0</td>\n",
              "      <td>0</td>\n",
              "      <td>1</td>\n",
              "      <td>0</td>\n",
              "    </tr>\n",
              "    <tr>\n",
              "      <th>4</th>\n",
              "      <td>0</td>\n",
              "      <td>0.0</td>\n",
              "      <td>0</td>\n",
              "      <td>0.0</td>\n",
              "      <td>10</td>\n",
              "      <td>627.500000</td>\n",
              "      <td>0.02</td>\n",
              "      <td>0.05</td>\n",
              "      <td>0.0</td>\n",
              "      <td>0.0</td>\n",
              "      <td>2</td>\n",
              "      <td>3</td>\n",
              "      <td>3</td>\n",
              "      <td>1</td>\n",
              "      <td>4</td>\n",
              "      <td>0</td>\n",
              "      <td>0</td>\n",
              "      <td>1</td>\n",
              "      <td>1</td>\n",
              "    </tr>\n",
              "  </tbody>\n",
              "</table>\n",
              "</div>"
            ],
            "text/plain": [
              "   Administrative  Administrative_Duration  ...  Returning_Visitor  Weekend_True\n",
              "0               0                      0.0  ...                  1             0\n",
              "1               0                      0.0  ...                  1             0\n",
              "2               0                      0.0  ...                  1             0\n",
              "3               0                      0.0  ...                  1             0\n",
              "4               0                      0.0  ...                  1             1\n",
              "\n",
              "[5 rows x 19 columns]"
            ]
          },
          "metadata": {
            "tags": []
          }
        },
        {
          "output_type": "execute_result",
          "data": {
            "text/plain": [
              "Index(['Administrative', 'Administrative_Duration', 'Informational',\n",
              "       'Informational_Duration', 'ProductRelated', 'ProductRelated_Duration',\n",
              "       'BounceRates', 'ExitRates', 'PageValues', 'SpecialDay', 'Month',\n",
              "       'OperatingSystems', 'Browser', 'Region', 'TrafficType', 'Revenue',\n",
              "       'New_Visitor', 'Returning_Visitor', 'Weekend_True'],\n",
              "      dtype='object')"
            ]
          },
          "metadata": {
            "tags": []
          },
          "execution_count": 5
        }
      ]
    },
    {
      "cell_type": "code",
      "metadata": {
        "colab_type": "code",
        "id": "V2XfT8JBjSWN",
        "colab": {}
      },
      "source": [
        "X = df[['Administrative', 'Administrative_Duration', 'Informational',\n",
        "       'Informational_Duration', 'ProductRelated', 'ProductRelated_Duration',\n",
        "       'BounceRates', 'ExitRates', 'PageValues', 'SpecialDay', 'Month',\n",
        "       'OperatingSystems', 'Browser', 'Region', 'TrafficType', \n",
        "       'New_Visitor', 'Returning_Visitor', 'Weekend_True']]\n",
        "y = df[\"Revenue\"]"
      ],
      "execution_count": 0,
      "outputs": []
    },
    {
      "cell_type": "markdown",
      "metadata": {
        "colab_type": "text",
        "id": "sX0h2GAejD72"
      },
      "source": [
        "#### Train Test Split"
      ]
    },
    {
      "cell_type": "code",
      "metadata": {
        "colab_type": "code",
        "id": "_YzGfjoajLd3",
        "colab": {}
      },
      "source": [
        "from sklearn.model_selection import train_test_split\n",
        "X_train, X_test, y_train, y_test = train_test_split(X,y)"
      ],
      "execution_count": 0,
      "outputs": []
    },
    {
      "cell_type": "code",
      "metadata": {
        "scrolled": true,
        "id": "sZhb6WfjLzRU",
        "colab_type": "code",
        "outputId": "d966a09c-c101-4631-e546-9404f4834900",
        "colab": {
          "base_uri": "https://localhost:8080/",
          "height": 121
        }
      },
      "source": [
        "print(X_train.shape)\n",
        "print(X_test.shape)\n",
        "print(y_train.shape)\n",
        "print(y_train.sum())\n",
        "print(y_test.shape)\n",
        "print(y_test.sum())\n"
      ],
      "execution_count": 0,
      "outputs": [
        {
          "output_type": "stream",
          "text": [
            "(9247, 18)\n",
            "(3083, 18)\n",
            "(9247,)\n",
            "1431\n",
            "(3083,)\n",
            "477\n"
          ],
          "name": "stdout"
        }
      ]
    },
    {
      "cell_type": "markdown",
      "metadata": {
        "colab_type": "text",
        "id": "dzmK4__flO1e"
      },
      "source": [
        "#### Estandarización"
      ]
    },
    {
      "cell_type": "code",
      "metadata": {
        "colab_type": "code",
        "id": "EgVsMccVlOmP",
        "outputId": "4c508fe0-4de5-4427-b3e5-0e983663e88a",
        "colab": {
          "base_uri": "https://localhost:8080/",
          "height": 425
        }
      },
      "source": [
        "# Utilizamos sklearn para estandarizar la matriz de Features\n",
        "from sklearn.preprocessing import StandardScaler\n",
        "scaler = StandardScaler()\n",
        "X_train[['Administrative', 'Administrative_Duration', 'Informational',\n",
        "       'Informational_Duration', 'ProductRelated', 'ProductRelated_Duration',\n",
        "       'BounceRates', 'ExitRates', 'PageValues', 'SpecialDay', 'Month',\n",
        "       'OperatingSystems', 'Browser', 'Region', 'TrafficType']] = scaler.fit_transform(X_train[\n",
        "        ['Administrative', 'Administrative_Duration', 'Informational',\n",
        "       'Informational_Duration', 'ProductRelated', 'ProductRelated_Duration',\n",
        "       'BounceRates', 'ExitRates', 'PageValues', 'SpecialDay', 'Month',\n",
        "       'OperatingSystems', 'Browser', 'Region', 'TrafficType']])\n",
        "X_train.head()"
      ],
      "execution_count": 0,
      "outputs": [
        {
          "output_type": "stream",
          "text": [
            "/usr/local/lib/python3.6/dist-packages/ipykernel_launcher.py:10: SettingWithCopyWarning: \n",
            "A value is trying to be set on a copy of a slice from a DataFrame.\n",
            "Try using .loc[row_indexer,col_indexer] = value instead\n",
            "\n",
            "See the caveats in the documentation: http://pandas.pydata.org/pandas-docs/stable/indexing.html#indexing-view-versus-copy\n",
            "  # Remove the CWD from sys.path while we load stuff.\n",
            "/usr/local/lib/python3.6/dist-packages/pandas/core/indexing.py:543: SettingWithCopyWarning: \n",
            "A value is trying to be set on a copy of a slice from a DataFrame.\n",
            "Try using .loc[row_indexer,col_indexer] = value instead\n",
            "\n",
            "See the caveats in the documentation: http://pandas.pydata.org/pandas-docs/stable/indexing.html#indexing-view-versus-copy\n",
            "  self.obj[item] = s\n"
          ],
          "name": "stderr"
        },
        {
          "output_type": "execute_result",
          "data": {
            "text/html": [
              "<div>\n",
              "<style scoped>\n",
              "    .dataframe tbody tr th:only-of-type {\n",
              "        vertical-align: middle;\n",
              "    }\n",
              "\n",
              "    .dataframe tbody tr th {\n",
              "        vertical-align: top;\n",
              "    }\n",
              "\n",
              "    .dataframe thead th {\n",
              "        text-align: right;\n",
              "    }\n",
              "</style>\n",
              "<table border=\"1\" class=\"dataframe\">\n",
              "  <thead>\n",
              "    <tr style=\"text-align: right;\">\n",
              "      <th></th>\n",
              "      <th>Administrative</th>\n",
              "      <th>Administrative_Duration</th>\n",
              "      <th>Informational</th>\n",
              "      <th>Informational_Duration</th>\n",
              "      <th>ProductRelated</th>\n",
              "      <th>ProductRelated_Duration</th>\n",
              "      <th>BounceRates</th>\n",
              "      <th>ExitRates</th>\n",
              "      <th>PageValues</th>\n",
              "      <th>SpecialDay</th>\n",
              "      <th>Month</th>\n",
              "      <th>OperatingSystems</th>\n",
              "      <th>Browser</th>\n",
              "      <th>Region</th>\n",
              "      <th>TrafficType</th>\n",
              "      <th>New_Visitor</th>\n",
              "      <th>Returning_Visitor</th>\n",
              "      <th>Weekend_True</th>\n",
              "    </tr>\n",
              "  </thead>\n",
              "  <tbody>\n",
              "    <tr>\n",
              "      <th>7707</th>\n",
              "      <td>-0.693703</td>\n",
              "      <td>-0.449357</td>\n",
              "      <td>0.394987</td>\n",
              "      <td>1.513001</td>\n",
              "      <td>0.942128</td>\n",
              "      <td>0.343795</td>\n",
              "      <td>-0.345085</td>\n",
              "      <td>-0.485008</td>\n",
              "      <td>-0.316081</td>\n",
              "      <td>-0.307229</td>\n",
              "      <td>-0.479130</td>\n",
              "      <td>-0.135140</td>\n",
              "      <td>-0.214603</td>\n",
              "      <td>-0.898105</td>\n",
              "      <td>-0.514356</td>\n",
              "      <td>0</td>\n",
              "      <td>1</td>\n",
              "      <td>0</td>\n",
              "    </tr>\n",
              "    <tr>\n",
              "      <th>9716</th>\n",
              "      <td>0.817694</td>\n",
              "      <td>0.547227</td>\n",
              "      <td>-0.392857</td>\n",
              "      <td>-0.241897</td>\n",
              "      <td>-0.078657</td>\n",
              "      <td>-0.061895</td>\n",
              "      <td>-0.456010</td>\n",
              "      <td>-0.425622</td>\n",
              "      <td>-0.316081</td>\n",
              "      <td>-0.307229</td>\n",
              "      <td>1.288597</td>\n",
              "      <td>0.956249</td>\n",
              "      <td>-0.214603</td>\n",
              "      <td>1.179751</td>\n",
              "      <td>-0.266415</td>\n",
              "      <td>0</td>\n",
              "      <td>1</td>\n",
              "      <td>0</td>\n",
              "    </tr>\n",
              "    <tr>\n",
              "      <th>11246</th>\n",
              "      <td>-0.693703</td>\n",
              "      <td>-0.449357</td>\n",
              "      <td>1.182831</td>\n",
              "      <td>10.559979</td>\n",
              "      <td>1.758757</td>\n",
              "      <td>1.102546</td>\n",
              "      <td>-0.288110</td>\n",
              "      <td>-0.586265</td>\n",
              "      <td>-0.316081</td>\n",
              "      <td>-0.307229</td>\n",
              "      <td>0.993976</td>\n",
              "      <td>-0.135140</td>\n",
              "      <td>-0.214603</td>\n",
              "      <td>0.348609</td>\n",
              "      <td>0.973289</td>\n",
              "      <td>0</td>\n",
              "      <td>1</td>\n",
              "      <td>1</td>\n",
              "    </tr>\n",
              "    <tr>\n",
              "      <th>7075</th>\n",
              "      <td>-0.693703</td>\n",
              "      <td>-0.449357</td>\n",
              "      <td>-0.392857</td>\n",
              "      <td>-0.241897</td>\n",
              "      <td>0.737971</td>\n",
              "      <td>0.948192</td>\n",
              "      <td>-0.096178</td>\n",
              "      <td>-0.099889</td>\n",
              "      <td>-0.316081</td>\n",
              "      <td>-0.307229</td>\n",
              "      <td>0.404734</td>\n",
              "      <td>-0.135140</td>\n",
              "      <td>-0.214603</td>\n",
              "      <td>-0.898105</td>\n",
              "      <td>-0.762297</td>\n",
              "      <td>0</td>\n",
              "      <td>1</td>\n",
              "      <td>0</td>\n",
              "    </tr>\n",
              "    <tr>\n",
              "      <th>9944</th>\n",
              "      <td>-0.693703</td>\n",
              "      <td>-0.449357</td>\n",
              "      <td>-0.392857</td>\n",
              "      <td>-0.241897</td>\n",
              "      <td>-0.623076</td>\n",
              "      <td>-0.561419</td>\n",
              "      <td>1.596103</td>\n",
              "      <td>1.674888</td>\n",
              "      <td>-0.316081</td>\n",
              "      <td>-0.307229</td>\n",
              "      <td>0.993976</td>\n",
              "      <td>0.956249</td>\n",
              "      <td>-0.214603</td>\n",
              "      <td>1.179751</td>\n",
              "      <td>2.212994</td>\n",
              "      <td>0</td>\n",
              "      <td>1</td>\n",
              "      <td>0</td>\n",
              "    </tr>\n",
              "  </tbody>\n",
              "</table>\n",
              "</div>"
            ],
            "text/plain": [
              "       Administrative  Administrative_Duration  ...  Returning_Visitor  Weekend_True\n",
              "7707        -0.693703                -0.449357  ...                  1             0\n",
              "9716         0.817694                 0.547227  ...                  1             0\n",
              "11246       -0.693703                -0.449357  ...                  1             1\n",
              "7075        -0.693703                -0.449357  ...                  1             0\n",
              "9944        -0.693703                -0.449357  ...                  1             0\n",
              "\n",
              "[5 rows x 18 columns]"
            ]
          },
          "metadata": {
            "tags": []
          },
          "execution_count": 9
        }
      ]
    },
    {
      "cell_type": "markdown",
      "metadata": {
        "colab_type": "text",
        "id": "Th2cNfMYhYOW"
      },
      "source": [
        "## Regresión logística con `sklearn`\n",
        "\n",
        "Aplicamos sobre los datos de test, la transformación para estandarizar valores, de igual manera que en train, para mantener la consistencia de tipos de datos."
      ]
    },
    {
      "cell_type": "code",
      "metadata": {
        "id": "xp0T0jvqLzRn",
        "colab_type": "code",
        "outputId": "536df4d7-9400-4be5-d2ed-844e55262250",
        "colab": {
          "base_uri": "https://localhost:8080/",
          "height": 245
        }
      },
      "source": [
        "X_test[['Administrative', 'Administrative_Duration', 'Informational',\n",
        "       'Informational_Duration', 'ProductRelated', 'ProductRelated_Duration',\n",
        "       'BounceRates', 'ExitRates', 'PageValues', 'SpecialDay', 'Month',\n",
        "       'OperatingSystems', 'Browser', 'Region', 'TrafficType']] = scaler.transform(X_test[\n",
        "        ['Administrative', 'Administrative_Duration', 'Informational',\n",
        "       'Informational_Duration', 'ProductRelated', 'ProductRelated_Duration',\n",
        "       'BounceRates', 'ExitRates', 'PageValues', 'SpecialDay', 'Month',\n",
        "       'OperatingSystems', 'Browser', 'Region', 'TrafficType']])"
      ],
      "execution_count": 0,
      "outputs": [
        {
          "output_type": "stream",
          "text": [
            "/usr/local/lib/python3.6/dist-packages/ipykernel_launcher.py:8: SettingWithCopyWarning: \n",
            "A value is trying to be set on a copy of a slice from a DataFrame.\n",
            "Try using .loc[row_indexer,col_indexer] = value instead\n",
            "\n",
            "See the caveats in the documentation: http://pandas.pydata.org/pandas-docs/stable/indexing.html#indexing-view-versus-copy\n",
            "  \n",
            "/usr/local/lib/python3.6/dist-packages/pandas/core/indexing.py:543: SettingWithCopyWarning: \n",
            "A value is trying to be set on a copy of a slice from a DataFrame.\n",
            "Try using .loc[row_indexer,col_indexer] = value instead\n",
            "\n",
            "See the caveats in the documentation: http://pandas.pydata.org/pandas-docs/stable/indexing.html#indexing-view-versus-copy\n",
            "  self.obj[item] = s\n"
          ],
          "name": "stderr"
        }
      ]
    },
    {
      "cell_type": "code",
      "metadata": {
        "id": "ATX9DReFLzRx",
        "colab_type": "code",
        "colab": {}
      },
      "source": [
        ""
      ],
      "execution_count": 0,
      "outputs": []
    },
    {
      "cell_type": "markdown",
      "metadata": {
        "id": "cOchuIuiCNrE",
        "colab_type": "text"
      },
      "source": [
        "### Aplicamos el modelo `Logistic Regression` por defecto"
      ]
    },
    {
      "cell_type": "code",
      "metadata": {
        "colab_type": "code",
        "id": "dTUWGCT8hYOX",
        "outputId": "2825ffab-50cb-4dfc-bd5d-282ae9f098d0",
        "colab": {
          "base_uri": "https://localhost:8080/",
          "height": 72
        }
      },
      "source": [
        "#from sklearn.model_selection import GridSearchCV\n",
        "from sklearn import linear_model\n",
        "\n",
        "model = linear_model.LogisticRegression()\n",
        "\n",
        "model.fit(X_train, y_train)\n",
        "\n",
        "y_pred_train = model.predict(X_train)\n",
        "\n",
        "y_pred_test = model.predict(X_test)"
      ],
      "execution_count": 0,
      "outputs": [
        {
          "output_type": "stream",
          "text": [
            "/usr/local/lib/python3.6/dist-packages/sklearn/linear_model/logistic.py:432: FutureWarning: Default solver will be changed to 'lbfgs' in 0.22. Specify a solver to silence this warning.\n",
            "  FutureWarning)\n"
          ],
          "name": "stderr"
        }
      ]
    },
    {
      "cell_type": "code",
      "metadata": {
        "colab_type": "code",
        "id": "D9QzynHJoAjT",
        "outputId": "d47849fd-16f6-4777-b071-2bf470747d30",
        "colab": {
          "base_uri": "https://localhost:8080/",
          "height": 325
        }
      },
      "source": [
        "# Elaboramos la matriz de confusión:\n",
        "from sklearn.metrics import confusion_matrix, accuracy_score\n",
        "\n",
        "print(confusion_matrix(y_test, y_pred_test))\n",
        "\n",
        "sns.set(rc={'figure.figsize':(5,4)})\n",
        "sns_cfmx = sns.heatmap(confusion_matrix(y_test, y_pred_test), annot=True, fmt=\"d\", linewidths=.5, cmap=\"OrRd_r\", cbar=False)\n",
        "\n",
        "#print(accuracy_score(y_test, y_pred_test))\n",
        "plt.ylabel('Verdaderos')\n",
        "plt.xlabel('Predichos');\n",
        "\n",
        "sns_cfmx.plot()\n",
        "fig = sns_cfmx.get_figure()\n",
        "fig.savefig(\"{}Logistic_Regression_heatmap.png\".format(path), dpi=400)"
      ],
      "execution_count": 0,
      "outputs": [
        {
          "output_type": "stream",
          "text": [
            "[[2546   60]\n",
            " [ 305  172]]\n"
          ],
          "name": "stdout"
        },
        {
          "output_type": "display_data",
          "data": {
            "image/png": "[encoded data removed]",
            "text/plain": [
              "<Figure size 360x288 with 1 Axes>"
            ]
          },
          "metadata": {
            "tags": []
          }
        }
      ]
    },
    {
      "cell_type": "code",
      "metadata": {
        "id": "5-iIx8X74efF",
        "colab_type": "code",
        "outputId": "b78d9011-bf2e-4467-df8c-833fa97a2517",
        "colab": {
          "base_uri": "https://localhost:8080/",
          "height": 35
        }
      },
      "source": [
        "print('accuracy score = {}'.format(accuracy_score(y_test, y_pred_test)))"
      ],
      "execution_count": 0,
      "outputs": [
        {
          "output_type": "stream",
          "text": [
            "accuracy score = 0.8816088225754135\n"
          ],
          "name": "stdout"
        }
      ]
    },
    {
      "cell_type": "code",
      "metadata": {
        "id": "HrhIMgZJ9khC",
        "colab_type": "code",
        "outputId": "0b3e4968-6da6-4176-d64f-ac9654c6189d",
        "colab": {
          "base_uri": "https://localhost:8080/",
          "height": 35
        }
      },
      "source": [
        "from sklearn.metrics import recall_score\n",
        "\n",
        "# sensitivity = TP / float(FN + TP)\n",
        "print('recall score = {}'.format(recall_score(y_test, y_pred_test)))"
      ],
      "execution_count": 0,
      "outputs": [
        {
          "output_type": "stream",
          "text": [
            "recall score = 0.36058700209643607\n"
          ],
          "name": "stdout"
        }
      ]
    },
    {
      "cell_type": "code",
      "metadata": {
        "id": "rvFqwbO6-ycb",
        "colab_type": "code",
        "outputId": "00f3d100-727c-4693-f3fb-f19a6e3b2182",
        "colab": {
          "base_uri": "https://localhost:8080/",
          "height": 35
        }
      },
      "source": [
        "from sklearn.metrics import precision_score\n",
        "\n",
        "# precision = TP / float(TP + FP)\n",
        "print('precision score = {}'.format(precision_score(y_test, y_pred_test)))"
      ],
      "execution_count": 0,
      "outputs": [
        {
          "output_type": "stream",
          "text": [
            "precision score = 0.7413793103448276\n"
          ],
          "name": "stdout"
        }
      ]
    },
    {
      "cell_type": "markdown",
      "metadata": {
        "id": "YvpCecljodH0",
        "colab_type": "text"
      },
      "source": [
        "#### Métricas computadas desde la matriz de confusión: F1-Score\n",
        "\n",
        "Es un promedio armónico entre precision y recall."
      ]
    },
    {
      "cell_type": "code",
      "metadata": {
        "id": "D8-Gjvw-odH3",
        "colab_type": "code",
        "outputId": "49ae0833-1b3a-4a0a-bf62-b43a360f8eaa",
        "colab": {
          "base_uri": "https://localhost:8080/",
          "height": 35
        }
      },
      "source": [
        "from sklearn.metrics import f1_score\n",
        "\n",
        "# f1 = 2*((precision*sensitivity)/(precision+sensitivity))\n",
        "print('F1 score = {}'.format(f1_score(y_test,y_pred_test)))"
      ],
      "execution_count": 0,
      "outputs": [
        {
          "output_type": "stream",
          "text": [
            "F1 score = 0.48519040902679833\n"
          ],
          "name": "stdout"
        }
      ]
    },
    {
      "cell_type": "code",
      "metadata": {
        "id": "FejgD1GRNqBs",
        "colab_type": "code",
        "colab": {}
      },
      "source": [
        "from sklearn.metrics import roc_auc_score, classification_report"
      ],
      "execution_count": 0,
      "outputs": []
    },
    {
      "cell_type": "code",
      "metadata": {
        "id": "dhIXbG-1Nwzo",
        "colab_type": "code",
        "outputId": "83c60b1e-afc3-4bf0-c41f-368feed02943",
        "colab": {
          "base_uri": "https://localhost:8080/",
          "height": 35
        }
      },
      "source": [
        "roc_auc_score(y_test, y_pred_test)"
      ],
      "execution_count": 0,
      "outputs": [
        {
          "output_type": "execute_result",
          "data": {
            "text/plain": [
              "0.6687816054227385"
            ]
          },
          "metadata": {
            "tags": []
          },
          "execution_count": 18
        }
      ]
    },
    {
      "cell_type": "code",
      "metadata": {
        "id": "_H8XHnNlNciv",
        "colab_type": "code",
        "outputId": "30889438-f121-42ba-8e26-81e6bdb77bbd",
        "colab": {
          "base_uri": "https://localhost:8080/",
          "height": 173
        }
      },
      "source": [
        "print(classification_report(y_test, y_pred_test))"
      ],
      "execution_count": 0,
      "outputs": [
        {
          "output_type": "stream",
          "text": [
            "              precision    recall  f1-score   support\n",
            "\n",
            "           0       0.89      0.98      0.93      2606\n",
            "           1       0.74      0.36      0.49       477\n",
            "\n",
            "    accuracy                           0.88      3083\n",
            "   macro avg       0.82      0.67      0.71      3083\n",
            "weighted avg       0.87      0.88      0.86      3083\n",
            "\n"
          ],
          "name": "stdout"
        }
      ]
    },
    {
      "cell_type": "code",
      "metadata": {
        "id": "VHpDQ81N8ylS",
        "colab_type": "code",
        "outputId": "c9eadee3-38b3-401a-ec1c-afcf2c17f5eb",
        "colab": {
          "base_uri": "https://localhost:8080/",
          "height": 318
        }
      },
      "source": [
        "from sklearn.metrics import roc_auc_score\n",
        "from sklearn.metrics import roc_curve\n",
        "\n",
        "logit_roc_auc = roc_auc_score(y_test, y_pred_test)\n",
        "fpr, tpr, thresholds = roc_curve(y_test, model.predict_proba(X_test)[:,1])\n",
        "\n",
        "\n",
        "print('Logistic Regression (área = %0.2f)' % logit_roc_auc)\n",
        "\n",
        "plt.figure()\n",
        "plt.plot(fpr, tpr, label='Logistic Regr (área = %0.2f)' % logit_roc_auc)\n",
        "plt.plot([0, 1], [0, 1],'r--')\n",
        "plt.xlim([0.0, 1.0])\n",
        "plt.ylim([0.0, 1.05])\n",
        "plt.xlabel('Tasa de Falsos Positivos')\n",
        "plt.ylabel('Tasa de Verdaderos Positivos')\n",
        "plt.title('Curva ROC'+' Logistic Regr (área = %0.2f)' % logit_roc_auc)\n",
        "plt.legend(\"lower right\")\n",
        "plt.savefig(\"{}Logistic_Regression_ROC.png\".format(path), dpi=400)\n",
        "plt.show()"
      ],
      "execution_count": 0,
      "outputs": [
        {
          "output_type": "stream",
          "text": [
            "Logistic Regression (área = 0.67)\n"
          ],
          "name": "stdout"
        },
        {
          "output_type": "display_data",
          "data": {
            "image/png": "[encoded data removed]",
            "text/plain": [
              "<Figure size 360x288 with 1 Axes>"
            ]
          },
          "metadata": {
            "tags": []
          }
        }
      ]
    },
    {
      "cell_type": "markdown",
      "metadata": {
        "id": "O0dF1Z29B5rj",
        "colab_type": "text"
      },
      "source": [
        "### Conclusión de aplicar el modelo `Logistic Regression` por defecto:\n",
        "\n",
        "El modelo presenta alto `accuracy` y `precision`, pero muy baja precisión al predecir los verdaderos positivos durante la fase de test para  `recall` y media armónica de recall y precisión `F1`. Esto generalmente se presenta cuando los datos no están balanceados, por lo que el modelo infiere mayor proporción del target más común."
      ]
    },
    {
      "cell_type": "markdown",
      "metadata": {
        "id": "oAyeY15LbTWF",
        "colab_type": "text"
      },
      "source": [
        "\n",
        "\n",
        "---\n",
        "\n",
        "\n",
        "\n",
        "---\n",
        "\n"
      ]
    }
  ]
}